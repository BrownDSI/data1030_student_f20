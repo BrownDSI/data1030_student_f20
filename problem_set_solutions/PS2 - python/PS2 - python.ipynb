{
 "cells": [
  {
   "cell_type": "markdown",
   "metadata": {},
   "source": [
    "## Problem set 2\n",
    "\n",
    "**Problem 0** (-2 points for every missing green OK sign. If you don't run the cell below, that's -14 points.)\n",
    "\n",
    "Make sure you are in the DATA1030 environment."
   ]
  },
  {
   "cell_type": "code",
   "execution_count": null,
   "metadata": {},
   "outputs": [],
   "source": [
    "from __future__ import print_function\n",
    "from distutils.version import LooseVersion as Version\n",
    "import sys\n",
    "\n",
    "OK = '\\x1b[42m[ OK ]\\x1b[0m'\n",
    "FAIL = \"\\x1b[41m[FAIL]\\x1b[0m\"\n",
    "\n",
    "try:\n",
    "    import importlib\n",
    "except ImportError:\n",
    "    print(FAIL, \"Python version 3.7 is required,\"\n",
    "                \" but %s is installed.\" % sys.version)\n",
    "\n",
    "def import_version(pkg, min_ver, fail_msg=\"\"):\n",
    "    mod = None\n",
    "    try:\n",
    "        mod = importlib.import_module(pkg)\n",
    "        if pkg in {'PIL'}:\n",
    "            ver = mod.VERSION\n",
    "        else:\n",
    "            ver = mod.__version__\n",
    "        if Version(ver) == min_ver:\n",
    "            print(OK, \"%s version %s is installed.\"\n",
    "                  % (lib, min_ver))\n",
    "        else:\n",
    "            print(FAIL, \"%s version %s is required, but %s installed.\"\n",
    "                  % (lib, min_ver, ver))    \n",
    "    except ImportError:\n",
    "        print(FAIL, '%s not installed. %s' % (pkg, fail_msg))\n",
    "    return mod\n",
    "\n",
    "\n",
    "# first check the python version\n",
    "pyversion = Version(sys.version)\n",
    "if pyversion >= \"3.7\":\n",
    "    print(OK, \"Python version is %s\" % sys.version)\n",
    "elif pyversion < \"3.7\":\n",
    "    print(FAIL, \"Python version 3.7 is required,\"\n",
    "                \" but %s is installed.\" % sys.version)\n",
    "else:\n",
    "    print(FAIL, \"Unknown Python version: %s\" % sys.version)\n",
    "\n",
    "    \n",
    "print()\n",
    "requirements = {'numpy': \"1.18.5\", 'matplotlib': \"3.2.2\",'sklearn': \"0.23.1\", \n",
    "                'pandas': \"1.0.5\",'xgboost': \"1.1.1\", 'shap': \"0.35.0\"}\n",
    "\n",
    "# now the dependencies\n",
    "for lib, required_version in list(requirements.items()):\n",
    "    import_version(lib, required_version)"
   ]
  },
  {
   "cell_type": "markdown",
   "metadata": {},
   "source": [
    "You will practice standard python coding in this problem set. The questions you see here are actual coding interview questions I got in the past. Please solve these problems using the [python standard library](https://docs.python.org/3/library/) only, no additional packages. "
   ]
  },
  {
   "cell_type": "markdown",
   "metadata": {},
   "source": [
    "**Problem 1a** (5 points)\n",
    "\n",
    "Write a function that takes a number as input and it returns how many unique digits it contains. For example, if the input is 2020, the output is 2 because 2020 contains two unique digits 2 and 0. \n",
    "\n",
    "1a explores some simple integer numbers which is usually how the interview starts. You'll get a couple of simple test cases first.\n",
    "\n",
    "We will practice test-driven code development and I give you the backbone of the function."
   ]
  },
  {
   "cell_type": "code",
   "execution_count": null,
   "metadata": {},
   "outputs": [],
   "source": [
    "\n",
    "# here are our test cases with solutions we verified\n",
    "tests = [2020, 11, 10, 55411, 0]\n",
    "results = [2, 1, 2, 3, 1]\n",
    "\n",
    "def unique_digits(number):\n",
    "    '''function to check how many unique digits we have in a number'''\n",
    "    # test the input\n",
    "    if not isinstance(number, (int, float)):\n",
    "        raise ValueError('input is not number')\n",
    "    \n",
    "    # feel free to delete this line once you add your solution\n",
    "    nr_digits = 0\n",
    "    \n",
    "    # add your code here:\n",
    "    \n",
    "    \n",
    "    return nr_digits\n",
    "\n",
    "# we iterate through each test case \n",
    "for (test,result) in zip(tests,results):\n",
    "    output = unique_digits(test)\n",
    "    if result != output:\n",
    "        print('input:',test)\n",
    "        print('the expected result:',result)\n",
    "        print('what we got instead:',output)\n",
    "# Your code is correct if no line is printed in the output."
   ]
  },
  {
   "cell_type": "markdown",
   "metadata": {},
   "source": [
    "**Problem 1b** (5 points)\n",
    "\n",
    "Here are a couple of new test cases. What happens if the number is a float or it is negative? Does your `unique_digits` function still works correctly? If not, please create a new function called `unique_digits2` in the cell below and update it! Leave `unique_digits` in the cell above unchanged.\n",
    "\n",
    "This is typically what happens during an interview. The interviewer points out that your solution doesn't work on more complicated examples and prompts you to fix the issue."
   ]
  },
  {
   "cell_type": "code",
   "execution_count": null,
   "metadata": {},
   "outputs": [],
   "source": [
    "tests = [-1, 0.0, -222, -67.67, 1234.5678]\n",
    "results = [1, 1, 1, 2, 8]\n"
   ]
  },
  {
   "cell_type": "markdown",
   "metadata": {},
   "source": [
    "**Problem 1c** (5 points)\n",
    "\n",
    "We add one extra step of complexity. Numbers can be given in scientific format too:\n",
    "\n",
    "XeY is X * 10^(Y), so for example 1.5e2 = 1.5 * 10^2 = 150 or -5.0e-3 = -5.0 * 10^(-3) = -0.005\n",
    "\n",
    "X can be a float or an integer such that 1<=|X|<10. Y is always an integer. 0e0 is an exception because |X| is less than 1 but all other numbers can be expressed with 1<=|X|<10. E.g., while 0.8e0 or 12e0 are technically correct and python won't give you an error message, 0.8 is usually expressed as 8e-1 and 12 is expressed as 1.2e1 in the scientific format.\n",
    "\n",
    "Check the new test examples and if your `unique_digits2` fails, create a `unique_digits3` function to correctly pass the new and previous tests. Please leave `unique_digits` and `unique_digits2` unchanged in the cells above.\n",
    "\n",
    "There is some ambiguity in the unique digits. For example 1.1e1 can be represented as 11.0 but also as 11. In such cases I go with the simplest integer representation (11) and the correct solution is that 1.1e1 has 1 unique digits. \n"
   ]
  },
  {
   "cell_type": "code",
   "execution_count": null,
   "metadata": {},
   "outputs": [],
   "source": [
    "tests = [2020, 11, 10, 55411, 0, -1, 0.0, -222, -67.67, 1234.5678, 1e0, 1.1e1, -5.23e4, 6.6e-3, 0e0]\n",
    "results = [2, 1, 2, 3, 1, 1, 1, 1, 2, 8, 1, 1, 4, 2, 1]\n"
   ]
  },
  {
   "cell_type": "markdown",
   "metadata": {},
   "source": [
    "**Problem 2a** (5 points)\n",
    "\n",
    "Write a function that takes a string as an input and it returns a dictionary with two keys 'vowels' and 'consonants'. The values of these keys are the number of unique consonants and vowels in the string. Follow the coding structure of 1a. \n",
    "\n",
    "- Come up with 5 simple lower-case words (like 'apple', 'tree') and manually create the dictionary with the correct solution for each word (like 'apple' - 2 vowels, 2 consonants; 'tree' - 1 vowel, 2 consonants). \n",
    "- Write your function. \n",
    "- Loop through the words and the dictionaries, call your function, and check if the function's output dictionary is the same as the solution you expect.\n",
    "\n",
    "This is the core idea of test-driven development. You first come up with how you'll test your code, and then you start writing it."
   ]
  },
  {
   "cell_type": "code",
   "execution_count": null,
   "metadata": {},
   "outputs": [],
   "source": []
  },
  {
   "cell_type": "markdown",
   "metadata": {},
   "source": [
    "**Problem 2b** (10 points)\n",
    "\n",
    "Add five new strings to your test. Two strings should contain simple words with a mix of lower and upper case characters (like 'Andras' - 1 vowel and 4 consonants). The other three strings should be whole sentences with upper and lower case characters, punctuation, and numbers too (for example \"I'd like to have 5 apples please!\" - 4 vowels, 8 consonants). Write a new function that can correctly solve your test cases."
   ]
  },
  {
   "cell_type": "code",
   "execution_count": null,
   "metadata": {},
   "outputs": [],
   "source": []
  },
  {
   "cell_type": "code",
   "execution_count": null,
   "metadata": {},
   "outputs": [],
   "source": []
  }
 ],
 "metadata": {
  "kernelspec": {
   "display_name": "Python 3",
   "language": "python",
   "name": "python3"
  },
  "language_info": {
   "codemirror_mode": {
    "name": "ipython",
    "version": 3
   },
   "file_extension": ".py",
   "mimetype": "text/x-python",
   "name": "python",
   "nbconvert_exporter": "python",
   "pygments_lexer": "ipython3",
   "version": "3.7.6"
  }
 },
 "nbformat": 4,
 "nbformat_minor": 4
}
