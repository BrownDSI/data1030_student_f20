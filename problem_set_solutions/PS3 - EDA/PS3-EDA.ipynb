{
 "cells": [
  {
   "cell_type": "markdown",
   "metadata": {},
   "source": [
    "## Problem set 3\n",
    "\n",
    "**Problem 0** (-2 points for every missing green OK sign. If you don't run the cell below, that's -14 points.)\n",
    "\n",
    "Make sure you are in the DATA1030 environment."
   ]
  },
  {
   "cell_type": "code",
   "execution_count": 4,
   "metadata": {},
   "outputs": [
    {
     "name": "stdout",
     "output_type": "stream",
     "text": [
      "\u001b[42m[ OK ]\u001b[0m Python version is 3.7.6 | packaged by conda-forge | (default, Jun  1 2020, 18:33:30) \n",
      "[Clang 9.0.1 ]\n",
      "\n",
      "\u001b[42m[ OK ]\u001b[0m numpy version 1.18.5 is installed.\n",
      "\u001b[42m[ OK ]\u001b[0m matplotlib version 3.2.2 is installed.\n",
      "\u001b[42m[ OK ]\u001b[0m sklearn version 0.23.1 is installed.\n",
      "\u001b[42m[ OK ]\u001b[0m pandas version 1.0.5 is installed.\n",
      "\u001b[42m[ OK ]\u001b[0m xgboost version 1.1.1 is installed.\n",
      "\u001b[42m[ OK ]\u001b[0m shap version 0.35.0 is installed.\n"
     ]
    }
   ],
   "source": [
    "from __future__ import print_function\n",
    "from distutils.version import LooseVersion as Version\n",
    "import sys\n",
    "\n",
    "OK = '\\x1b[42m[ OK ]\\x1b[0m'\n",
    "FAIL = \"\\x1b[41m[FAIL]\\x1b[0m\"\n",
    "\n",
    "try:\n",
    "    import importlib\n",
    "except ImportError:\n",
    "    print(FAIL, \"Python version 3.7 is required,\"\n",
    "                \" but %s is installed.\" % sys.version)\n",
    "\n",
    "def import_version(pkg, min_ver, fail_msg=\"\"):\n",
    "    mod = None\n",
    "    try:\n",
    "        mod = importlib.import_module(pkg)\n",
    "        if pkg in {'PIL'}:\n",
    "            ver = mod.VERSION\n",
    "        else:\n",
    "            ver = mod.__version__\n",
    "        if Version(ver) == min_ver:\n",
    "            print(OK, \"%s version %s is installed.\"\n",
    "                  % (lib, min_ver))\n",
    "        else:\n",
    "            print(FAIL, \"%s version %s is required, but %s installed.\"\n",
    "                  % (lib, min_ver, ver))    \n",
    "    except ImportError:\n",
    "        print(FAIL, '%s not installed. %s' % (pkg, fail_msg))\n",
    "    return mod\n",
    "\n",
    "\n",
    "# first check the python version\n",
    "pyversion = Version(sys.version)\n",
    "if pyversion >= \"3.7\":\n",
    "    print(OK, \"Python version is %s\" % sys.version)\n",
    "elif pyversion < \"3.7\":\n",
    "    print(FAIL, \"Python version 3.7 is required,\"\n",
    "                \" but %s is installed.\" % sys.version)\n",
    "else:\n",
    "    print(FAIL, \"Unknown Python version: %s\" % sys.version)\n",
    "\n",
    "    \n",
    "print()\n",
    "requirements = {'numpy': \"1.18.5\", 'matplotlib': \"3.2.2\",'sklearn': \"0.23.1\", \n",
    "                'pandas': \"1.0.5\",'xgboost': \"1.1.1\", 'shap': \"0.35.0\"}\n",
    "\n",
    "# now the dependencies\n",
    "for lib, required_version in list(requirements.items()):\n",
    "    import_version(lib, required_version)"
   ]
  },
  {
   "cell_type": "markdown",
   "metadata": {},
   "source": [
    "**Problem 1: Diabetes dataset**\n",
    "\n",
    "Carefully read the description of the [diabetes dataset](https://scikit-learn.org/stable/datasets/index.html#diabetes-dataset) which you can [load](https://scikit-learn.org/stable/modules/generated/sklearn.datasets.load_diabetes.html) from sklearn directly. Make sure to load the data as pandas dataframes or series.\n"
   ]
  },
  {
   "cell_type": "markdown",
   "metadata": {},
   "source": [
    "**Problem 1a** (10 points)\n",
    "\n",
    "Go through each column in the dataset (including the target variable) and decide if the column is continuous or categorical and apply the `describe` or `value_counts` methods as appropriate. Prepare a bar plot or a histogram for each column as appropriate. Make sure that the axes are labelled and experiment a bit with `bins` if you use a histogram."
   ]
  },
  {
   "cell_type": "markdown",
   "metadata": {},
   "source": [
    "Grading suggestion:\n",
    "- 1 point for correctly reading in the data into pandas\n",
    "- 2 points if they figure out that the sex is categorical but the other columns are continuous\n",
    "- 2 points if they correctly use .describe and .value_counts\n",
    "- 2 point if the correct figure type is used for each column,\n",
    "- 2 points if axes are correctly labelled \n",
    "- 1 point if they use something else than the default bins=10 (bins=20 or int(np.sqrt(X.shape[0])) or something similar are good)\n"
   ]
  },
  {
   "cell_type": "code",
   "execution_count": 5,
   "metadata": {},
   "outputs": [
    {
     "name": "stdout",
     "output_type": "stream",
     "text": [
      "        age       sex       bmi        bp        s1        s2        s3  \\\n",
      "0  0.038076  0.050680  0.061696  0.021872 -0.044223 -0.034821 -0.043401   \n",
      "1 -0.001882 -0.044642 -0.051474 -0.026328 -0.008449 -0.019163  0.074412   \n",
      "2  0.085299  0.050680  0.044451 -0.005671 -0.045599 -0.034194 -0.032356   \n",
      "3 -0.089063 -0.044642 -0.011595 -0.036656  0.012191  0.024991 -0.036038   \n",
      "4  0.005383 -0.044642 -0.036385  0.021872  0.003935  0.015596  0.008142   \n",
      "\n",
      "         s4        s5        s6  \n",
      "0 -0.002592  0.019908 -0.017646  \n",
      "1 -0.039493 -0.068330 -0.092204  \n",
      "2 -0.002592  0.002864 -0.025930  \n",
      "3  0.034309  0.022692 -0.009362  \n",
      "4 -0.002592 -0.031991 -0.046641  \n",
      "214\n",
      "count    442.000000\n",
      "mean     152.133484\n",
      "std       77.093005\n",
      "min       25.000000\n",
      "25%       87.000000\n",
      "50%      140.500000\n",
      "75%      211.500000\n",
      "max      346.000000\n",
      "Name: target, dtype: float64\n"
     ]
    },
    {
     "data": {
      "image/png": "[encoded data removed]",
      "text/plain": [
       "<Figure size 432x288 with 1 Axes>"
      ]
     },
     "metadata": {
      "needs_background": "light"
     },
     "output_type": "display_data"
    },
    {
     "name": "stdout",
     "output_type": "stream",
     "text": [
      "age\n",
      "count    4.420000e+02\n",
      "mean    -3.639623e-16\n",
      "std      4.761905e-02\n",
      "min     -1.072256e-01\n",
      "25%     -3.729927e-02\n",
      "50%      5.383060e-03\n",
      "75%      3.807591e-02\n",
      "max      1.107267e-01\n",
      "Name: age, dtype: float64\n"
     ]
    },
    {
     "data": {
      "image/png": "[encoded data removed]",
      "text/plain": [
       "<Figure size 432x288 with 1 Axes>"
      ]
     },
     "metadata": {
      "needs_background": "light"
     },
     "output_type": "display_data"
    },
    {
     "name": "stdout",
     "output_type": "stream",
     "text": [
      "sex\n",
      "-0.044642    235\n",
      " 0.050680    207\n",
      "Name: sex, dtype: int64\n"
     ]
    },
    {
     "data": {
      "image/png": "[encoded data removed]",
      "text/plain": [
       "<Figure size 432x288 with 1 Axes>"
      ]
     },
     "metadata": {
      "needs_background": "light"
     },
     "output_type": "display_data"
    },
    {
     "name": "stdout",
     "output_type": "stream",
     "text": [
      "bmi\n",
      "count    4.420000e+02\n",
      "mean    -8.013951e-16\n",
      "std      4.761905e-02\n",
      "min     -9.027530e-02\n",
      "25%     -3.422907e-02\n",
      "50%     -7.283766e-03\n",
      "75%      3.124802e-02\n",
      "max      1.705552e-01\n",
      "Name: bmi, dtype: float64\n"
     ]
    },
    {
     "data": {
      "image/png": "[encoded data removed]",
      "text/plain": [
       "<Figure size 432x288 with 1 Axes>"
      ]
     },
     "metadata": {
      "needs_background": "light"
     },
     "output_type": "display_data"
    },
    {
     "name": "stdout",
     "output_type": "stream",
     "text": [
      "bp\n",
      "count    4.420000e+02\n",
      "mean     1.289818e-16\n",
      "std      4.761905e-02\n",
      "min     -1.123996e-01\n",
      "25%     -3.665645e-02\n",
      "50%     -5.670611e-03\n",
      "75%      3.564384e-02\n",
      "max      1.320442e-01\n",
      "Name: bp, dtype: float64\n"
     ]
    },
    {
     "data": {
      "image/png": "[encoded data removed]",
      "text/plain": [
       "<Figure size 432x288 with 1 Axes>"
      ]
     },
     "metadata": {
      "needs_background": "light"
     },
     "output_type": "display_data"
    },
    {
     "name": "stdout",
     "output_type": "stream",
     "text": [
      "s1\n",
      "count    4.420000e+02\n",
      "mean    -9.042540e-17\n",
      "std      4.761905e-02\n",
      "min     -1.267807e-01\n",
      "25%     -3.424784e-02\n",
      "50%     -4.320866e-03\n",
      "75%      2.835801e-02\n",
      "max      1.539137e-01\n",
      "Name: s1, dtype: float64\n"
     ]
    },
    {
     "data": {
      "image/png": "[encoded data removed]",
      "text/plain": [
       "<Figure size 432x288 with 1 Axes>"
      ]
     },
     "metadata": {
      "needs_background": "light"
     },
     "output_type": "display_data"
    },
    {
     "name": "stdout",
     "output_type": "stream",
     "text": [
      "s2\n",
      "count    4.420000e+02\n",
      "mean     1.301121e-16\n",
      "std      4.761905e-02\n",
      "min     -1.156131e-01\n",
      "25%     -3.035840e-02\n",
      "50%     -3.819065e-03\n",
      "75%      2.984439e-02\n",
      "max      1.987880e-01\n",
      "Name: s2, dtype: float64\n"
     ]
    },
    {
     "data": {
      "image/png": "[encoded data removed]",
      "text/plain": [
       "<Figure size 432x288 with 1 Axes>"
      ]
     },
     "metadata": {
      "needs_background": "light"
     },
     "output_type": "display_data"
    },
    {
     "name": "stdout",
     "output_type": "stream",
     "text": [
      "s3\n",
      "count    4.420000e+02\n",
      "mean    -4.563971e-16\n",
      "std      4.761905e-02\n",
      "min     -1.023071e-01\n",
      "25%     -3.511716e-02\n",
      "50%     -6.584468e-03\n",
      "75%      2.931150e-02\n",
      "max      1.811791e-01\n",
      "Name: s3, dtype: float64\n"
     ]
    },
    {
     "data": {
      "image/png": "[encoded data removed]",
      "text/plain": [
       "<Figure size 432x288 with 1 Axes>"
      ]
     },
     "metadata": {
      "needs_background": "light"
     },
     "output_type": "display_data"
    },
    {
     "name": "stdout",
     "output_type": "stream",
     "text": [
      "s4\n",
      "count    4.420000e+02\n",
      "mean     3.863174e-16\n",
      "std      4.761905e-02\n",
      "min     -7.639450e-02\n",
      "25%     -3.949338e-02\n",
      "50%     -2.592262e-03\n",
      "75%      3.430886e-02\n",
      "max      1.852344e-01\n",
      "Name: s4, dtype: float64\n"
     ]
    },
    {
     "data": {
      "image/png": "[encoded data removed]",
      "text/plain": [
       "<Figure size 432x288 with 1 Axes>"
      ]
     },
     "metadata": {
      "needs_background": "light"
     },
     "output_type": "display_data"
    },
    {
     "name": "stdout",
     "output_type": "stream",
     "text": [
      "s5\n",
      "count    4.420000e+02\n",
      "mean    -3.848103e-16\n",
      "std      4.761905e-02\n",
      "min     -1.260974e-01\n",
      "25%     -3.324879e-02\n",
      "50%     -1.947634e-03\n",
      "75%      3.243323e-02\n",
      "max      1.335990e-01\n",
      "Name: s5, dtype: float64\n"
     ]
    },
    {
     "data": {
      "image/png": "[encoded data removed]",
      "text/plain": [
       "<Figure size 432x288 with 1 Axes>"
      ]
     },
     "metadata": {
      "needs_background": "light"
     },
     "output_type": "display_data"
    },
    {
     "name": "stdout",
     "output_type": "stream",
     "text": [
      "s6\n",
      "count    4.420000e+02\n",
      "mean    -3.398488e-16\n",
      "std      4.761905e-02\n",
      "min     -1.377672e-01\n",
      "25%     -3.317903e-02\n",
      "50%     -1.077698e-03\n",
      "75%      2.791705e-02\n",
      "max      1.356118e-01\n",
      "Name: s6, dtype: float64\n"
     ]
    },
    {
     "data": {
      "image/png": "[encoded data removed]",
      "text/plain": [
       "<Figure size 432x288 with 1 Axes>"
      ]
     },
     "metadata": {
      "needs_background": "light"
     },
     "output_type": "display_data"
    }
   ],
   "source": [
    "from sklearn.datasets import load_diabetes\n",
    "import pandas as pd\n",
    "from matplotlib import pylab as plt\n",
    "import numpy as np\n",
    "\n",
    "X, y = load_diabetes(return_X_y=True,as_frame=True)\n",
    "\n",
    "print(X.head())\n",
    "cols = X.columns\n",
    "\n",
    "# the target variable\n",
    "print(y.nunique()) # it is continuous\n",
    "print(y.describe())\n",
    "y.plot.hist(bins = int(np.sqrt(X.shape[0])) )   \n",
    "plt.xlabel(y.name)\n",
    "plt.ylabel('count')\n",
    "plt.show()\n",
    "\n",
    "# loop through each feature in the feature matrix\n",
    "for col in cols:\n",
    "    print(col) \n",
    "    if X[col].nunique() < 3: # the number of unique values in each column\n",
    "        # categorical feature\n",
    "        print(X[col].value_counts())\n",
    "        pd.value_counts(X[col]).plot.bar()\n",
    "        plt.ylabel('count')\n",
    "        plt.xlabel(col)\n",
    "        plt.show()\n",
    "        \n",
    "    else:\n",
    "        # continous feature\n",
    "        print(X[col].describe())\n",
    "        X[col].plot.hist(bins = int(np.sqrt(X.shape[0])) )   \n",
    "        plt.xlabel(col)\n",
    "        plt.ylabel('count')\n",
    "        plt.show()"
   ]
  },
  {
   "cell_type": "markdown",
   "metadata": {},
   "source": [
    "**Problem 1b** (15 points)\n",
    "\n",
    "Prepare the figure types as indicated in the cells below. For each figure type, select two appropriate columns from the diabetes dataset, make sure the axes are labelled and use legends if appropriate.\n",
    "\n",
    "Write figure captions for each figure (a couple of sentences for each figure)! A good figure caption first describes what's shown on the x and y axes and explains the legends if appropriate. The next couple of sentences explains to the reader what the figure actually shows and what conclusions or insights can be drawn from the figure. \n",
    "\n",
    "If you think that a visualization type cannot be prepared using this dataset, explain why."
   ]
  },
  {
   "cell_type": "markdown",
   "metadata": {},
   "source": [
    "Grading suggestion:\n",
    "\n",
    "- 1 point per figure if the correct features were used\n",
    "- 1 point per figure if axes are labelled and there is a legend if appropriate\n",
    "- 1 point per figure if the caption describes the axes and legend\n",
    "- 1 point per figure if the caption describes what the figure shows\n",
    "\n",
    "- 3 points for realizing that we can't make a stacked bar plot because this dataset has only one categorical feature but we need two categorical features for a stacked bar plot.\n"
   ]
  },
  {
   "cell_type": "markdown",
   "metadata": {},
   "source": [
    "**Scatter plot**"
   ]
  },
  {
   "cell_type": "code",
   "execution_count": null,
   "metadata": {},
   "outputs": [],
   "source": []
  },
  {
   "cell_type": "markdown",
   "metadata": {},
   "source": [
    "**Violin plot**"
   ]
  },
  {
   "cell_type": "code",
   "execution_count": null,
   "metadata": {},
   "outputs": [],
   "source": []
  },
  {
   "cell_type": "markdown",
   "metadata": {},
   "source": [
    "**Stacked bar plot**"
   ]
  },
  {
   "cell_type": "code",
   "execution_count": null,
   "metadata": {},
   "outputs": [],
   "source": []
  },
  {
   "cell_type": "markdown",
   "metadata": {},
   "source": [
    "**Category-specific histogram**"
   ]
  },
  {
   "cell_type": "code",
   "execution_count": null,
   "metadata": {},
   "outputs": [],
   "source": []
  },
  {
   "cell_type": "markdown",
   "metadata": {},
   "source": [
    "**Problem 2** (10 points)\n",
    "\n",
    "Carefully read the [description](https://archive.ics.uci.edu/ml/datasets/Motion+Capture+Hand+Postures#) of the hand postures dataset. The dataset is in the `data` folder of your repo. Read the data into a pandas dataframe and answer the questions below."
   ]
  },
  {
   "cell_type": "markdown",
   "metadata": {},
   "source": [
    "Grading suggestion:\n",
    "\n",
    "- 2 points if they read the file in correctly and drop the initial dummy record\n",
    "- 2 points for each question correctly answered\n"
   ]
  },
  {
   "cell_type": "code",
   "execution_count": 2,
   "metadata": {},
   "outputs": [
    {
     "data": {
      "text/html": [
       "<div>\n",
       "<style scoped>\n",
       "    .dataframe tbody tr th:only-of-type {\n",
       "        vertical-align: middle;\n",
       "    }\n",
       "\n",
       "    .dataframe tbody tr th {\n",
       "        vertical-align: top;\n",
       "    }\n",
       "\n",
       "    .dataframe thead th {\n",
       "        text-align: right;\n",
       "    }\n",
       "</style>\n",
       "<table border=\"1\" class=\"dataframe\">\n",
       "  <thead>\n",
       "    <tr style=\"text-align: right;\">\n",
       "      <th></th>\n",
       "      <th>Class</th>\n",
       "      <th>User</th>\n",
       "      <th>X0</th>\n",
       "      <th>Y0</th>\n",
       "      <th>Z0</th>\n",
       "      <th>X1</th>\n",
       "      <th>Y1</th>\n",
       "      <th>Z1</th>\n",
       "      <th>X2</th>\n",
       "      <th>Y2</th>\n",
       "      <th>...</th>\n",
       "      <th>Z8</th>\n",
       "      <th>X9</th>\n",
       "      <th>Y9</th>\n",
       "      <th>Z9</th>\n",
       "      <th>X10</th>\n",
       "      <th>Y10</th>\n",
       "      <th>Z10</th>\n",
       "      <th>X11</th>\n",
       "      <th>Y11</th>\n",
       "      <th>Z11</th>\n",
       "    </tr>\n",
       "  </thead>\n",
       "  <tbody>\n",
       "    <tr>\n",
       "      <th>1</th>\n",
       "      <td>1</td>\n",
       "      <td>0</td>\n",
       "      <td>54.263880</td>\n",
       "      <td>71.466776</td>\n",
       "      <td>-64.807709</td>\n",
       "      <td>76.895635</td>\n",
       "      <td>42.462500</td>\n",
       "      <td>-72.780545</td>\n",
       "      <td>36.621229</td>\n",
       "      <td>81.680557</td>\n",
       "      <td>...</td>\n",
       "      <td>?</td>\n",
       "      <td>?</td>\n",
       "      <td>?</td>\n",
       "      <td>?</td>\n",
       "      <td>?</td>\n",
       "      <td>?</td>\n",
       "      <td>?</td>\n",
       "      <td>?</td>\n",
       "      <td>?</td>\n",
       "      <td>?</td>\n",
       "    </tr>\n",
       "    <tr>\n",
       "      <th>2</th>\n",
       "      <td>1</td>\n",
       "      <td>0</td>\n",
       "      <td>56.527558</td>\n",
       "      <td>72.266609</td>\n",
       "      <td>-61.935252</td>\n",
       "      <td>39.135978</td>\n",
       "      <td>82.538530</td>\n",
       "      <td>-49.596509</td>\n",
       "      <td>79.223743</td>\n",
       "      <td>43.254091</td>\n",
       "      <td>...</td>\n",
       "      <td>?</td>\n",
       "      <td>?</td>\n",
       "      <td>?</td>\n",
       "      <td>?</td>\n",
       "      <td>?</td>\n",
       "      <td>?</td>\n",
       "      <td>?</td>\n",
       "      <td>?</td>\n",
       "      <td>?</td>\n",
       "      <td>?</td>\n",
       "    </tr>\n",
       "    <tr>\n",
       "      <th>3</th>\n",
       "      <td>1</td>\n",
       "      <td>0</td>\n",
       "      <td>55.849928</td>\n",
       "      <td>72.469064</td>\n",
       "      <td>-62.562788</td>\n",
       "      <td>37.988804</td>\n",
       "      <td>82.631347</td>\n",
       "      <td>-50.606259</td>\n",
       "      <td>78.451526</td>\n",
       "      <td>43.567403</td>\n",
       "      <td>...</td>\n",
       "      <td>?</td>\n",
       "      <td>?</td>\n",
       "      <td>?</td>\n",
       "      <td>?</td>\n",
       "      <td>?</td>\n",
       "      <td>?</td>\n",
       "      <td>?</td>\n",
       "      <td>?</td>\n",
       "      <td>?</td>\n",
       "      <td>?</td>\n",
       "    </tr>\n",
       "    <tr>\n",
       "      <th>4</th>\n",
       "      <td>1</td>\n",
       "      <td>0</td>\n",
       "      <td>55.329647</td>\n",
       "      <td>71.707275</td>\n",
       "      <td>-63.688956</td>\n",
       "      <td>36.561863</td>\n",
       "      <td>81.868749</td>\n",
       "      <td>-52.752784</td>\n",
       "      <td>86.320630</td>\n",
       "      <td>68.214645</td>\n",
       "      <td>...</td>\n",
       "      <td>?</td>\n",
       "      <td>?</td>\n",
       "      <td>?</td>\n",
       "      <td>?</td>\n",
       "      <td>?</td>\n",
       "      <td>?</td>\n",
       "      <td>?</td>\n",
       "      <td>?</td>\n",
       "      <td>?</td>\n",
       "      <td>?</td>\n",
       "    </tr>\n",
       "    <tr>\n",
       "      <th>5</th>\n",
       "      <td>1</td>\n",
       "      <td>0</td>\n",
       "      <td>55.142401</td>\n",
       "      <td>71.435607</td>\n",
       "      <td>-64.177303</td>\n",
       "      <td>36.175818</td>\n",
       "      <td>81.556874</td>\n",
       "      <td>-53.475747</td>\n",
       "      <td>76.986143</td>\n",
       "      <td>42.426849</td>\n",
       "      <td>...</td>\n",
       "      <td>?</td>\n",
       "      <td>?</td>\n",
       "      <td>?</td>\n",
       "      <td>?</td>\n",
       "      <td>?</td>\n",
       "      <td>?</td>\n",
       "      <td>?</td>\n",
       "      <td>?</td>\n",
       "      <td>?</td>\n",
       "      <td>?</td>\n",
       "    </tr>\n",
       "  </tbody>\n",
       "</table>\n",
       "<p>5 rows × 38 columns</p>\n",
       "</div>"
      ],
      "text/plain": [
       "   Class  User         X0         Y0         Z0         X1         Y1  \\\n",
       "1      1     0  54.263880  71.466776 -64.807709  76.895635  42.462500   \n",
       "2      1     0  56.527558  72.266609 -61.935252  39.135978  82.538530   \n",
       "3      1     0  55.849928  72.469064 -62.562788  37.988804  82.631347   \n",
       "4      1     0  55.329647  71.707275 -63.688956  36.561863  81.868749   \n",
       "5      1     0  55.142401  71.435607 -64.177303  36.175818  81.556874   \n",
       "\n",
       "          Z1         X2         Y2  ...  Z8 X9 Y9 Z9 X10 Y10 Z10 X11 Y11 Z11  \n",
       "1 -72.780545  36.621229  81.680557  ...   ?  ?  ?  ?   ?   ?   ?   ?   ?   ?  \n",
       "2 -49.596509  79.223743  43.254091  ...   ?  ?  ?  ?   ?   ?   ?   ?   ?   ?  \n",
       "3 -50.606259  78.451526  43.567403  ...   ?  ?  ?  ?   ?   ?   ?   ?   ?   ?  \n",
       "4 -52.752784  86.320630  68.214645  ...   ?  ?  ?  ?   ?   ?   ?   ?   ?   ?  \n",
       "5 -53.475747  76.986143  42.426849  ...   ?  ?  ?  ?   ?   ?   ?   ?   ?   ?  \n",
       "\n",
       "[5 rows x 38 columns]"
      ]
     },
     "execution_count": 2,
     "metadata": {},
     "output_type": "execute_result"
    }
   ],
   "source": [
    "import pandas as pd\n",
    "df = pd.read_csv('data/Postures.csv')\n",
    "df.drop([0],inplace=True)\n",
    "df.head()"
   ]
  },
  {
   "cell_type": "markdown",
   "metadata": {},
   "source": [
    "Q1: How many unique users do we have and how many recorded postures per user?"
   ]
  },
  {
   "cell_type": "code",
   "execution_count": 7,
   "metadata": {},
   "outputs": [
    {
     "name": "stdout",
     "output_type": "stream",
     "text": [
      "user: 0 , nr recorded postures: 9048\n",
      "user: 1 , nr recorded postures: 4717\n",
      "user: 2 , nr recorded postures: 4513\n",
      "user: 4 , nr recorded postures: 379\n",
      "user: 5 , nr recorded postures: 5105\n",
      "user: 6 , nr recorded postures: 4377\n",
      "user: 7 , nr recorded postures: 492\n",
      "user: 8 , nr recorded postures: 6811\n",
      "user: 9 , nr recorded postures: 3920\n",
      "user: 10 , nr recorded postures: 9573\n",
      "user: 11 , nr recorded postures: 8061\n",
      "user: 12 , nr recorded postures: 4865\n",
      "user: 13 , nr recorded postures: 8739\n",
      "user: 14 , nr recorded postures: 7495\n"
     ]
    }
   ],
   "source": [
    "users = df['User'].unique()\n",
    "\n",
    "for user in users:\n",
    "    print('user:',user,', nr recorded postures:', df[df['User']==user].shape[0])"
   ]
  },
  {
   "cell_type": "markdown",
   "metadata": {},
   "source": [
    "Q2: How many times each posture was recorded for each user? Was each posture recorded at least once for each user?"
   ]
  },
  {
   "cell_type": "code",
   "execution_count": 8,
   "metadata": {},
   "outputs": [
    {
     "name": "stdout",
     "output_type": "stream",
     "text": [
      "Class       1       2       3       4       5\n",
      "User                                         \n",
      "0      1872.0  1501.0  1851.0  1781.0  2043.0\n",
      "1      1307.0   796.0   968.0   561.0  1085.0\n",
      "2      1198.0   808.0   721.0   677.0  1109.0\n",
      "4        29.0    71.0   131.0   148.0     NaN\n",
      "5       820.0  1143.0   926.0  1033.0  1183.0\n",
      "6       738.0   962.0   779.0   744.0  1154.0\n",
      "7        84.0   124.0   134.0   150.0     NaN\n",
      "8      1097.0  1392.0  1670.0  1160.0  1492.0\n",
      "9       653.0   918.0   676.0   832.0   841.0\n",
      "10     2397.0  1481.0  2108.0  1894.0  1693.0\n",
      "11     1604.0  1380.0  1601.0  1881.0  1595.0\n",
      "12      712.0   941.0  1087.0  1212.0   913.0\n",
      "13     2107.0  1671.0  1672.0  1771.0  1518.0\n",
      "14     1647.0  1790.0  2020.0   931.0  1107.0\n"
     ]
    }
   ],
   "source": [
    "count_matrix = df.groupby(['User', 'Class']).size().unstack()\n",
    "print(count_matrix)\n",
    "# no, posture 5 ('grab') was not recorded for users 4 and 7."
   ]
  },
  {
   "cell_type": "markdown",
   "metadata": {},
   "source": [
    "Q3: Note in the description that 11 markers were attached to the glove of the users and the (x,y,z) coordinates of each marker are the features of the dataset (11*3 = 33 features plus user ID and class). Some markers could be invisible (e.g., markers hidden inside a fist) so the dataset contains a lot of missing values represented as '?'. Create a new feature which describes for each row in the dataset how many visible markers we have data on. Add this column to the dataframe and print out the head and the tail of the new dataframe.\n",
    "\n",
    "Hints:\n",
    "- first replace '?' with np.nan using the .replace method of dataframes\n",
    "- look up the .isnull() method to figure out which elements in the dataframe are NaNs."
   ]
  },
  {
   "cell_type": "code",
   "execution_count": 9,
   "metadata": {},
   "outputs": [
    {
     "name": "stdout",
     "output_type": "stream",
     "text": [
      "   Class  User         X0         Y0         Z0         X1         Y1  \\\n",
      "1      1     0  54.263880  71.466776 -64.807709  76.895635  42.462500   \n",
      "2      1     0  56.527558  72.266609 -61.935252  39.135978  82.538530   \n",
      "3      1     0  55.849928  72.469064 -62.562788  37.988804  82.631347   \n",
      "4      1     0  55.329647  71.707275 -63.688956  36.561863  81.868749   \n",
      "5      1     0  55.142401  71.435607 -64.177303  36.175818  81.556874   \n",
      "\n",
      "          Z1         X2         Y2  ...   X9   Y9   Z9  X10  Y10  Z10  X11  \\\n",
      "1 -72.780545  36.621229  81.680557  ...  NaN  NaN  NaN  NaN  NaN  NaN  NaN   \n",
      "2 -49.596509  79.223743  43.254091  ...  NaN  NaN  NaN  NaN  NaN  NaN  NaN   \n",
      "3 -50.606259  78.451526  43.567403  ...  NaN  NaN  NaN  NaN  NaN  NaN  NaN   \n",
      "4 -52.752784  86.320630  68.214645  ...  NaN  NaN  NaN  NaN  NaN  NaN  NaN   \n",
      "5 -53.475747  76.986143  42.426849  ...  NaN  NaN  NaN  NaN  NaN  NaN  NaN   \n",
      "\n",
      "   Y11  Z11 visible markers  \n",
      "1  NaN  NaN             4.0  \n",
      "2  NaN  NaN             4.0  \n",
      "3  NaN  NaN             4.0  \n",
      "4  NaN  NaN             4.0  \n",
      "5  NaN  NaN             4.0  \n",
      "\n",
      "[5 rows x 39 columns]\n",
      "       Class  User         X0          Y0         Z0         X1          Y1  \\\n",
      "78091      5    14  54.251127  129.177414 -44.252511  27.720784  107.810661   \n",
      "78092      5    14  54.334883  129.253842 -44.016320  27.767911  107.914808   \n",
      "78093      5    14  54.151540  129.269502 -44.173273  27.725978  108.034006   \n",
      "78094      5    14  27.915311  108.007390  10.814957  -0.910435  122.464093   \n",
      "78095      5    14  27.898705  108.092877  11.107857 -30.031402   77.740235   \n",
      "\n",
      "              Z1         X2          Y2  ...                X9  \\\n",
      "78091  11.099282  -1.270139  122.758679  ...  87.7333643096221   \n",
      "78092  11.069842 -30.334054   77.858214  ...  78.2298473919132   \n",
      "78093  11.020347 -22.574718  104.222208  ...   78.591554010542   \n",
      "78094 -47.271248 -30.084588   77.705861  ...               NaN   \n",
      "78095 -17.453099  -1.091566  122.827638  ...  78.8796525666014   \n",
      "\n",
      "                     Y9                 Z9  X10  Y10  Z10  X11  Y11  Z11  \\\n",
      "78091  61.2163626180662  -62.1262783028233  NaN  NaN  NaN  NaN  NaN  NaN   \n",
      "78092  33.0784071753174  -45.2495433686171  NaN  NaN  NaN  NaN  NaN  NaN   \n",
      "78093    32.32773753847  -46.1665560916632  NaN  NaN  NaN  NaN  NaN  NaN   \n",
      "78094               NaN                NaN  NaN  NaN  NaN  NaN  NaN  NaN   \n",
      "78095  31.6030997578398  -47.0137357205196  NaN  NaN  NaN  NaN  NaN  NaN   \n",
      "\n",
      "      visible markers  \n",
      "78091             9.0  \n",
      "78092             9.0  \n",
      "78093             9.0  \n",
      "78094             8.0  \n",
      "78095             9.0  \n",
      "\n",
      "[5 rows x 39 columns]\n"
     ]
    }
   ],
   "source": [
    "df.replace('?',np.nan,inplace=True)\n",
    "\n",
    "mask = df.isnull()\n",
    "missing_cols = mask.sum(axis=1)\n",
    "\n",
    "df['visible markers'] = 11 - missing_cols/3\n",
    "\n",
    "print(df.head())\n",
    "print(df.tail())"
   ]
  },
  {
   "cell_type": "markdown",
   "metadata": {},
   "source": [
    "Q4: Create a bar plot which shows the number of visible markers on the x axis and how many postures were observed with a given number of visible markers on the y axis."
   ]
  },
  {
   "cell_type": "code",
   "execution_count": 10,
   "metadata": {},
   "outputs": [
    {
     "data": {
      "image/png": "[encoded data removed]",
      "text/plain": [
       "<Figure size 432x288 with 1 Axes>"
      ]
     },
     "metadata": {
      "needs_background": "light"
     },
     "output_type": "display_data"
    }
   ],
   "source": [
    "pd.value_counts(df['visible markers']).plot.bar()\n",
    "plt.ylabel('nr. of postures')\n",
    "plt.xlabel('nr of markers')\n",
    "plt.show()"
   ]
  },
  {
   "cell_type": "code",
   "execution_count": null,
   "metadata": {},
   "outputs": [],
   "source": []
  }
 ],
 "metadata": {
  "kernelspec": {
   "display_name": "Python 3",
   "language": "python",
   "name": "python3"
  },
  "language_info": {
   "codemirror_mode": {
    "name": "ipython",
    "version": 3
   },
   "file_extension": ".py",
   "mimetype": "text/x-python",
   "name": "python",
   "nbconvert_exporter": "python",
   "pygments_lexer": "ipython3",
   "version": "3.7.6"
  }
 },
 "nbformat": 4,
 "nbformat_minor": 4
}
