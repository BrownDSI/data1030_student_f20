{
 "cells": [
  {
   "cell_type": "markdown",
   "metadata": {},
   "source": [
    "## Problem set 6\n",
    "\n",
    "**Problem 0** (-2 points for every missing green OK sign. If you don't run the cell below, that's -14 points.)\n",
    "\n",
    "Make sure you are in the DATA1030 environment."
   ]
  },
  {
   "cell_type": "code",
   "execution_count": 19,
   "metadata": {},
   "outputs": [
    {
     "name": "stdout",
     "output_type": "stream",
     "text": [
      "\u001b[42m[ OK ]\u001b[0m Python version is 3.7.6 | packaged by conda-forge | (default, Jun  1 2020, 18:33:30) \n",
      "[Clang 9.0.1 ]\n",
      "\n",
      "\u001b[42m[ OK ]\u001b[0m numpy version 1.18.5 is installed.\n",
      "\u001b[42m[ OK ]\u001b[0m matplotlib version 3.2.2 is installed.\n",
      "\u001b[42m[ OK ]\u001b[0m sklearn version 0.23.1 is installed.\n",
      "\u001b[42m[ OK ]\u001b[0m pandas version 1.0.5 is installed.\n",
      "\u001b[42m[ OK ]\u001b[0m xgboost version 1.1.1 is installed.\n",
      "\u001b[42m[ OK ]\u001b[0m shap version 0.35.0 is installed.\n"
     ]
    }
   ],
   "source": [
    "from __future__ import print_function\n",
    "from distutils.version import LooseVersion as Version\n",
    "import sys\n",
    "\n",
    "OK = '\\x1b[42m[ OK ]\\x1b[0m'\n",
    "FAIL = \"\\x1b[41m[FAIL]\\x1b[0m\"\n",
    "\n",
    "try:\n",
    "    import importlib\n",
    "except ImportError:\n",
    "    print(FAIL, \"Python version 3.7 is required,\"\n",
    "                \" but %s is installed.\" % sys.version)\n",
    "\n",
    "def import_version(pkg, min_ver, fail_msg=\"\"):\n",
    "    mod = None\n",
    "    try:\n",
    "        mod = importlib.import_module(pkg)\n",
    "        if pkg in {'PIL'}:\n",
    "            ver = mod.VERSION\n",
    "        else:\n",
    "            ver = mod.__version__\n",
    "        if Version(ver) == min_ver:\n",
    "            print(OK, \"%s version %s is installed.\"\n",
    "                  % (lib, min_ver))\n",
    "        else:\n",
    "            print(FAIL, \"%s version %s is required, but %s installed.\"\n",
    "                  % (lib, min_ver, ver))    \n",
    "    except ImportError:\n",
    "        print(FAIL, '%s not installed. %s' % (pkg, fail_msg))\n",
    "    return mod\n",
    "\n",
    "\n",
    "# first check the python version\n",
    "pyversion = Version(sys.version)\n",
    "if pyversion >= \"3.7\":\n",
    "    print(OK, \"Python version is %s\" % sys.version)\n",
    "elif pyversion < \"3.7\":\n",
    "    print(FAIL, \"Python version 3.7 is required,\"\n",
    "                \" but %s is installed.\" % sys.version)\n",
    "else:\n",
    "    print(FAIL, \"Unknown Python version: %s\" % sys.version)\n",
    "\n",
    "    \n",
    "print()\n",
    "requirements = {'numpy': \"1.18.5\", 'matplotlib': \"3.2.2\",'sklearn': \"0.23.1\", \n",
    "                'pandas': \"1.0.5\",'xgboost': \"1.1.1\", 'shap': \"0.35.0\"}\n",
    "\n",
    "# now the dependencies\n",
    "for lib, required_version in list(requirements.items()):\n",
    "    import_version(lib, required_version)"
   ]
  },
  {
   "cell_type": "markdown",
   "metadata": {},
   "source": [
    "**Problem 1a** (3 points)\n",
    "\n",
    "Please load true_labels_pred_probs.csv in the data folder into a data frame. It contains the true labels and the predicted probabilities of class 0 and 1 in a classification problem.\n",
    "\n",
    "Please prepare the predicted classes for a critical probability of 50% and visualize the confusion matrix."
   ]
  },
  {
   "cell_type": "code",
   "execution_count": 20,
   "metadata": {},
   "outputs": [],
   "source": [
    "# this is just copy-paste from the lecture note\n",
    "\n",
    "import numpy as np\n",
    "import matplotlib.pyplot as plt\n",
    "from sklearn.utils.multiclass import unique_labels\n",
    "import pandas as pd\n",
    "import matplotlib.pyplot as plt\n",
    "\n",
    "def plot_confusion_matrix(y_true, y_pred, classes,\n",
    "                          normalize=False,\n",
    "                          title=None,\n",
    "                          cmap=plt.cm.Blues):\n",
    "    \"\"\"\n",
    "    This function prints and plots the confusion matrix.\n",
    "    Normalization can be applied by setting `normalize=True`.\n",
    "    \"\"\"\n",
    "    if not title:\n",
    "        if normalize:\n",
    "            title = 'Normalized confusion matrix'\n",
    "        else:\n",
    "            title = 'Confusion matrix, without normalization'\n",
    "\n",
    "    # Compute confusion matrix\n",
    "    cm = confusion_matrix(y_true, y_pred)\n",
    "    # Only use the labels that appear in the data\n",
    "    classes = np.array(classes)\n",
    "    classes = classes[unique_labels(y_true, y_pred)]\n",
    "    if normalize:\n",
    "        cm = cm.astype('float') / cm.sum(axis=1)[:, np.newaxis]\n",
    "        print(\"Normalized confusion matrix\")\n",
    "    else:\n",
    "        print('Confusion matrix, without normalization')\n",
    "\n",
    "    fig, ax = plt.subplots()\n",
    "    im = ax.imshow(cm, interpolation='nearest', cmap=cmap)\n",
    "    ax.figure.colorbar(im, ax=ax)\n",
    "    # We want to show all ticks...\n",
    "    ax.set(xticks=np.arange(cm.shape[1]),\n",
    "           yticks=np.arange(cm.shape[0]),\n",
    "           # ... and label them with the respective list entries\n",
    "           xticklabels=classes, yticklabels=classes,\n",
    "           title=title,\n",
    "           ylabel='True label',\n",
    "           xlabel='Predicted label')\n",
    "\n",
    "    # Rotate the tick labels and set their alignment.\n",
    "    plt.setp(ax.get_xticklabels(), rotation=45, ha=\"right\",\n",
    "             rotation_mode=\"anchor\")\n",
    "\n",
    "    # Loop over data dimensions and create text annotations.\n",
    "    fmt = '.2f' if normalize else 'd'\n",
    "    thresh = cm.max() / 2.\n",
    "    for i in range(cm.shape[0]):\n",
    "        for j in range(cm.shape[1]):\n",
    "            ax.text(j, i, format(cm[i, j], fmt),\n",
    "                    ha=\"center\", va=\"center\",\n",
    "                    color=\"white\" if cm[i, j] > thresh else \"black\")\n",
    "    fig.tight_layout()\n",
    "    return ax"
   ]
  },
  {
   "cell_type": "code",
   "execution_count": 25,
   "metadata": {},
   "outputs": [
    {
     "name": "stdout",
     "output_type": "stream",
     "text": [
      "Index(['y_true', 'pred_prob_class0', 'pred_prob_class1'], dtype='object')\n",
      "Confusion matrix, without normalization\n"
     ]
    },
    {
     "data": {
      "image/png": "[encoded data removed]",
      "text/plain": [
       "<Figure size 432x288 with 2 Axes>"
      ]
     },
     "metadata": {
      "needs_background": "light"
     },
     "output_type": "display_data"
    }
   ],
   "source": [
    "from sklearn.metrics import confusion_matrix\n",
    "\n",
    "df = pd.read_csv('data/true_labels_pred_probs.csv')\n",
    "print(df.columns)\n",
    "y_true = df['y_true'].values\n",
    "pred_proba = df['pred_prob_class0'].values\n",
    "\n",
    "y_pred = np.zeros(len(pred_proba),dtype=int)\n",
    "y_pred[pred_proba < 0.5] = 0\n",
    "y_pred[pred_proba >= 0.5] = 1\n",
    "\n",
    "plot_confusion_matrix(y_true,y_pred,classes=['class 0', 'class 1'])\n",
    "plt.show()\n"
   ]
  },
  {
   "cell_type": "markdown",
   "metadata": {},
   "source": [
    "**Problem 1b** (9 points)\n",
    "\n",
    "Calculate and plot the accuracy, precision, recall, f0.5, f1, f1.5 scores using the sorted predicted proabilities as critical probabilities!\n",
    "\n",
    "What critical probability maximizes the scores (one critical probability per score)? "
   ]
  },
  {
   "cell_type": "code",
   "execution_count": 26,
   "metadata": {},
   "outputs": [
    {
     "data": {
      "image/png": "[encoded data removed]",
      "text/plain": [
       "<Figure size 432x288 with 1 Axes>"
      ]
     },
     "metadata": {
      "needs_background": "light"
     },
     "output_type": "display_data"
    },
    {
     "name": "stdout",
     "output_type": "stream",
     "text": [
      "0.005476633082646343\n",
      "0.005476633082646343\n",
      "0.005476633082646343\n",
      "0.005476633082646343\n",
      "0.005476633082646343\n",
      "0.005476633082646343\n"
     ]
    }
   ],
   "source": [
    "from sklearn.metrics import precision_score\n",
    "from sklearn.metrics import fbeta_score\n",
    "from sklearn.metrics import recall_score\n",
    "from sklearn.metrics import accuracy_score\n",
    "\n",
    "p_crits = np.sort(pred_proba)\n",
    "\n",
    "acc = np.zeros(len(p_crits))\n",
    "p = np.zeros(len(p_crits))\n",
    "r = np.zeros(len(p_crits))\n",
    "f05 = np.zeros(len(p_crits))\n",
    "f1 = np.zeros(len(p_crits))\n",
    "f15 = np.zeros(len(p_crits))\n",
    "\n",
    "for i in range(len(p_crits)):\n",
    "    p_crit = p_crits[i]\n",
    "    y_pred[pred_proba < p_crit] = 0\n",
    "    y_pred[pred_proba >= p_crit] = 1\n",
    "    \n",
    "    acc[i] = accuracy_score(y_true,y_pred)\n",
    "    p[i] = precision_score(y_true,y_pred)\n",
    "    r[i] = recall_score(y_true,y_pred)\n",
    "    f05[i] = fbeta_score(y_true,y_pred,beta = 0.5) \n",
    "    f1[i] = fbeta_score(y_true,y_pred,beta = 1) \n",
    "    f15[i] = fbeta_score(y_true,y_pred,beta = 1.5) \n",
    "\n",
    "\n",
    "plt.plot(p_crits,acc,label='accuracy')\n",
    "plt.plot(p_crits,p,label='precision')\n",
    "plt.plot(p_crits,r,label='recall')\n",
    "plt.plot(p_crits,f05,label='f0.5')\n",
    "plt.plot(p_crits,f1,label='f1')\n",
    "plt.plot(p_crits,f15,label='f1.5')\n",
    "plt.legend()\n",
    "plt.xlabel('critical probability')\n",
    "plt.ylabel('score')\n",
    "plt.show()\n",
    "\n",
    "print(p_crits[np.argmax(acc)])\n",
    "print(p_crits[np.argmax(p)])\n",
    "print(p_crits[np.argmax(r)])\n",
    "print(p_crits[np.argmax(f05)])\n",
    "print(p_crits[np.argmax(f1)])\n",
    "print(p_crits[np.argmax(f15)])"
   ]
  },
  {
   "cell_type": "markdown",
   "metadata": {},
   "source": [
    "**Problem 1c** (3 points)\n",
    "\n",
    "One of the curves is monotone increasing and another curve is monotone decreasing. Which evaluation metrics correspond to these two curves and why is this a problem when you try to tune the critical probability? Explain your answer in a few sentences.\n"
   ]
  },
  {
   "cell_type": "markdown",
   "metadata": {},
   "source": []
  },
  {
   "cell_type": "markdown",
   "metadata": {},
   "source": [
    "**Problem 2a** (6 points)\n",
    "\n",
    "Work with true_labels_pred_probs.csv again. \n",
    "\n",
    "Calculate the points on the ROC curve and plot it. \n",
    "\n",
    "Print what is the best critical probability by finding the point on the ROC curve that's closest to the perfect classifier (0,1) point. "
   ]
  },
  {
   "cell_type": "code",
   "execution_count": 5,
   "metadata": {},
   "outputs": [
    {
     "data": {
      "image/png": "[encoded data removed]",
      "text/plain": [
       "<Figure size 432x288 with 1 Axes>"
      ]
     },
     "metadata": {
      "needs_background": "light"
     },
     "output_type": "display_data"
    },
    {
     "name": "stdout",
     "output_type": "stream",
     "text": [
      "0.5967301685054103\n"
     ]
    }
   ],
   "source": [
    "import pandas as pd\n",
    "from sklearn.metrics import roc_curve\n",
    "from matplotlib.pylab import plt\n",
    "import numpy as np\n",
    "\n",
    "df = pd.read_csv('data/true_labels_pred_probs.csv')\n",
    "\n",
    "# 1 point for using the class 1 predicted probabilities\n",
    "# 1 point for correctly calculating the fpr and tpr points (roc_curve is one option, they can also manually calculate the points)\n",
    "fpr, tpr, p_crits = roc_curve(df['y_true'],df['pred_prob_class1']) \n",
    "\n",
    "# 1 point if plot is correct and the x and y labels are there\n",
    "plt.plot(fpr,tpr)\n",
    "plt.xlabel('fpr')\n",
    "plt.ylabel('tpr')\n",
    "plt.show()\n",
    "\n",
    "# distance calculation\n",
    "distance = np.zeros(len(fpr))\n",
    "for i in range(len(fpr)):\n",
    "    distance[i] = np.sqrt( (fpr[i])**2 + (tpr[i] - 1)**2 ) # 3 points for the correct distances\n",
    "    \n",
    "print(p_crits[np.argmin(distance)]) # 2 points for correctly determining the best p_crit\n"
   ]
  },
  {
   "cell_type": "markdown",
   "metadata": {},
   "source": [
    "**Problem 2b** (9 points)\n",
    "\n",
    "We discussed in class that the baseline accuracy of a classification model is equal to the fraction of points that belong to the most populous class. For example, if 80% of points belong to class 0 and 20% of points belong to class 1, we could predict class 0 to all points and the accuracy of our model would be 80%. Keep this concept and methodology in mind and answer the questions below."
   ]
  },
  {
   "cell_type": "markdown",
   "metadata": {},
   "source": [
    "Q1: How would you calculate the baseline f1 score in classification? Let's assume $n_0$ points are in class 0 and $n_1 = n - n_0$ points are in class 1 where $n$ is the number of points in your dataset. Work out the solution on pen and paper. Express the f1 score using $p$ and $r$."
   ]
  },
  {
   "cell_type": "markdown",
   "metadata": {},
   "source": [
    "p = tp/(tp+fp)\n",
    "\n",
    "r = tp/(tp+fn)\n",
    "\n",
    "f1 = 2pr/(p+r)\n",
    "\n",
    "If all points are predicted to be class 0, fp = tp = 0 and precision is undefined (0/0). The good way to go is to predict all points to be class 1. Then tp = n1/n, fp = n0/n, fn = 0. Let's add these to the equations of p and r:\n",
    "\n",
    "p = n1/n / (n1/n + n0/n) = n1 / (n1 + n0) = n1/n\n",
    "\n",
    "r = n1/n / (n1/n + 0) = 1\n",
    "\n",
    "Finally, the f1 score becomes\n",
    "\n",
    "f1 = 2 n1/n 1 / (n1/n + 1) = 2 p / (p + 1)"
   ]
  },
  {
   "cell_type": "markdown",
   "metadata": {},
   "source": [
    "Q2: Generalize your Q1 solution to the f_beta score. Usually the f_beta score is used when the classification problem is imbalanced. Prepare a figure which shows the baseline f_beta score for beta = 0.5, 1, and 2 when the fraction of points that belong to class 0 is between 0.95 and 1. Use 51 linearly spaced values between 0.95 and 1.\n",
    "Create a plot with three curves, one curve per beta value. Don't forget to add axes labels and a legend."
   ]
  },
  {
   "cell_type": "code",
   "execution_count": 18,
   "metadata": {},
   "outputs": [
    {
     "data": {
      "image/png": "[encoded data removed]",
      "text/plain": [
       "<Figure size 432x288 with 1 Axes>"
      ]
     },
     "metadata": {
      "needs_background": "light"
     },
     "output_type": "display_data"
    }
   ],
   "source": [
    "# f_beta = (1 + beta^2)pr/(beta^2*p + r)\n",
    "# in our case f_beta = (1 + beta^2)p/(beta^2*p + 1)\n",
    "# balance = n0/n but p = n1/n = 1 - balance\n",
    "\n",
    "balance = np.linspace(0.95, 1.0, 51) # balance is >= 0.5 and smaller than 1\n",
    "beta = [0.5,1,2]\n",
    "\n",
    "baseline_f_beta = np.zeros([len(balance),len(beta)])\n",
    "\n",
    "for b in range(len(balance)):\n",
    "    for bb in range(len(beta)):\n",
    "        p = 1 - balance[b]\n",
    "        baseline_f_beta[b,bb] = (1 + beta[bb]**2)*p/(beta[bb]**2*p + 1)\n",
    "\n",
    "plt.plot(balance,baseline_f_beta[:,0],label='beta = 0.5')\n",
    "plt.plot(balance,baseline_f_beta[:,1],label='beta = 1')\n",
    "plt.plot(balance,baseline_f_beta[:,2],label='beta = 2')\n",
    "plt.xlabel('fraction of points in class 0')\n",
    "plt.ylabel('baseline f_beta score')\n",
    "plt.legend()\n",
    "plt.show()"
   ]
  },
  {
   "cell_type": "code",
   "execution_count": null,
   "metadata": {},
   "outputs": [],
   "source": []
  }
 ],
 "metadata": {
  "kernelspec": {
   "display_name": "Python 3",
   "language": "python",
   "name": "python3"
  },
  "language_info": {
   "codemirror_mode": {
    "name": "ipython",
    "version": 3
   },
   "file_extension": ".py",
   "mimetype": "text/x-python",
   "name": "python",
   "nbconvert_exporter": "python",
   "pygments_lexer": "ipython3",
   "version": "3.7.6"
  }
 },
 "nbformat": 4,
 "nbformat_minor": 4
}
