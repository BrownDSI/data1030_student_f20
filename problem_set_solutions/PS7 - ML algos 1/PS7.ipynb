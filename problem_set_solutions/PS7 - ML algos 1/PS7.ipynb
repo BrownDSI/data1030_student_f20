{
 "cells": [
  {
   "cell_type": "markdown",
   "metadata": {},
   "source": [
    "## Problem set 7\n",
    "\n",
    "**Problem 0** (-2 points for every missing green OK sign. If you don't run the cell below, that's -14 points.)\n",
    "\n",
    "Make sure you are in the DATA1030 environment."
   ]
  },
  {
   "cell_type": "code",
   "execution_count": 1,
   "metadata": {},
   "outputs": [
    {
     "name": "stdout",
     "output_type": "stream",
     "text": [
      "\u001b[42m[ OK ]\u001b[0m Python version is 3.7.6 | packaged by conda-forge | (default, Jun  1 2020, 18:33:30) \n",
      "[Clang 9.0.1 ]\n",
      "\n",
      "\u001b[42m[ OK ]\u001b[0m numpy version 1.18.5 is installed.\n",
      "\u001b[42m[ OK ]\u001b[0m matplotlib version 3.2.2 is installed.\n",
      "\u001b[42m[ OK ]\u001b[0m sklearn version 0.23.1 is installed.\n",
      "\u001b[42m[ OK ]\u001b[0m pandas version 1.0.5 is installed.\n",
      "\u001b[42m[ OK ]\u001b[0m xgboost version 1.1.1 is installed.\n",
      "\u001b[42m[ OK ]\u001b[0m shap version 0.35.0 is installed.\n"
     ]
    }
   ],
   "source": [
    "from __future__ import print_function\n",
    "from distutils.version import LooseVersion as Version\n",
    "import sys\n",
    "\n",
    "OK = '\\x1b[42m[ OK ]\\x1b[0m'\n",
    "FAIL = \"\\x1b[41m[FAIL]\\x1b[0m\"\n",
    "\n",
    "try:\n",
    "    import importlib\n",
    "except ImportError:\n",
    "    print(FAIL, \"Python version 3.7 is required,\"\n",
    "                \" but %s is installed.\" % sys.version)\n",
    "\n",
    "def import_version(pkg, min_ver, fail_msg=\"\"):\n",
    "    mod = None\n",
    "    try:\n",
    "        mod = importlib.import_module(pkg)\n",
    "        if pkg in {'PIL'}:\n",
    "            ver = mod.VERSION\n",
    "        else:\n",
    "            ver = mod.__version__\n",
    "        if Version(ver) == min_ver:\n",
    "            print(OK, \"%s version %s is installed.\"\n",
    "                  % (lib, min_ver))\n",
    "        else:\n",
    "            print(FAIL, \"%s version %s is required, but %s installed.\"\n",
    "                  % (lib, min_ver, ver))    \n",
    "    except ImportError:\n",
    "        print(FAIL, '%s not installed. %s' % (pkg, fail_msg))\n",
    "    return mod\n",
    "\n",
    "\n",
    "# first check the python version\n",
    "pyversion = Version(sys.version)\n",
    "if pyversion >= \"3.7\":\n",
    "    print(OK, \"Python version is %s\" % sys.version)\n",
    "elif pyversion < \"3.7\":\n",
    "    print(FAIL, \"Python version 3.7 is required,\"\n",
    "                \" but %s is installed.\" % sys.version)\n",
    "else:\n",
    "    print(FAIL, \"Unknown Python version: %s\" % sys.version)\n",
    "\n",
    "    \n",
    "print()\n",
    "requirements = {'numpy': \"1.18.5\", 'matplotlib': \"3.2.2\",'sklearn': \"0.23.1\", \n",
    "                'pandas': \"1.0.5\",'xgboost': \"1.1.1\", 'shap': \"0.35.0\"}\n",
    "\n",
    "# now the dependencies\n",
    "for lib, required_version in list(requirements.items()):\n",
    "    import_version(lib, required_version)"
   ]
  },
  {
   "cell_type": "markdown",
   "metadata": {},
   "source": [
    "**Problem 1**\n",
    "\n",
    "We will investigate the importance of preprocessing your dataset in this exercise. You will work with the unprocessed diabetes dataset in problem 1a, and you will preprocess it in 1b. You'll train a regression model in both problems and you'll compare the feature coefficients. \n",
    "\n",
    "The feature coefficients are determined by two things:\n",
    "- the importance of the feautre\n",
    "- the value of the feature\n",
    "\n",
    "So if a feature coefficient is large, there can be two reason for it: either the feature is important, or its value is small so it needs to be multiplied by a large number if it contributes to the prediction. The only way to remove this ambiguity is to standardize all features. If all features have a 0 mean and the same standard deviation, the feature coefficient is purely determined by the importance of the feature and it can be used to rank features based on how important they are.\n"
   ]
  },
  {
   "cell_type": "markdown",
   "metadata": {},
   "source": [
    "**Problem 1a** (10 points)\n",
    "\n",
    "First, read in the dataset into a pandas dataframe using the tab delimited file linked at [this page](https://www4.stat.ncsu.edu/~boos/var.select/diabetes.html). Loop through 10 different random states. Split the dataset into training and test sets (70-30 ratios). We won't tune the regularization parameter, that's why we won't need a validation set for this exercise. Do not preprocess the sets. Train a linear regression model with Ridge regularization with alpha = 1. Use RMSE as your evaluation metric and print out the mean and standard deviation of the training and test scores. For each random state, save the test score and the model's coefficients for each feature.\n",
    "\n",
    "Once you loop through the 10 random states, prepare one plot which shows the mean and standard deviation of each feature's coefficient. Make sure to have proper x and y ticks and labels.\n",
    "\n",
    "Hint: use plt.errorbar() for the figure."
   ]
  },
  {
   "cell_type": "code",
   "execution_count": 2,
   "metadata": {},
   "outputs": [
    {
     "name": "stdout",
     "output_type": "stream",
     "text": [
      "53.33126606771177 0.8587287173176426\n",
      "54.58524708995854 1.8947198577448843\n"
     ]
    },
    {
     "data": {
      "image/png": "[encoded data removed]",
      "text/plain": [
       "<Figure size 432x288 with 1 Axes>"
      ]
     },
     "metadata": {
      "needs_background": "light"
     },
     "output_type": "display_data"
    }
   ],
   "source": [
    "import pandas as pd\n",
    "import numpy as np\n",
    "from  sklearn.linear_model import Ridge\n",
    "from sklearn.metrics import mean_squared_error\n",
    "from sklearn.model_selection import train_test_split\n",
    "from sklearn.preprocessing import StandardScaler\n",
    "\n",
    "import matplotlib.pyplot as plt\n",
    "\n",
    "df = pd.read_csv(\"https://www4.stat.ncsu.edu/~boos/var.select/diabetes.tab.txt\", sep='\\t')\n",
    "df.head()\n",
    "\n",
    "y = df['Y']\n",
    "X = df.loc[:, df.columns != 'Y']\n",
    "\n",
    "thetas = np.zeros([10,X.shape[1]])\n",
    "train_scores = np.zeros(10)\n",
    "test_scores = np.zeros(10)\n",
    "\n",
    "for i in range(10):\n",
    "    random_state = 42 * i\n",
    "    \n",
    "    # split the data\n",
    "    X_train, X_test, y_train, y_test = train_test_split(X, y, train_size=0.7, random_state=random_state)\n",
    "\n",
    "    # load the linear regression model\n",
    "    lin_reg = Ridge(alpha=1)\n",
    "    lin_reg.fit(X_train, y_train)\n",
    "    # train and test scores\n",
    "    train_scores[i] = mean_squared_error(y_train,lin_reg.predict(X_train),squared=False)\n",
    "    test_scores[i] = mean_squared_error(y_test,lin_reg.predict(X_test),squared=False)\n",
    "    thetas[i] = lin_reg.coef_\n",
    "    \n",
    "print(np.mean(train_scores),np.std(train_scores))\n",
    "print(np.mean(test_scores),np.std(test_scores))\n",
    "\n",
    "plt.errorbar(np.arange(X.shape[1]),np.mean(thetas,axis=0),yerr=np.std(thetas,axis=0),fmt='o')\n",
    "plt.xticks(np.arange(X.shape[1]),X.columns)\n",
    "plt.ylabel('coefficients')\n",
    "plt.xlabel('feature names')\n",
    "plt.show()"
   ]
  },
  {
   "cell_type": "markdown",
   "metadata": {},
   "source": [
    "**Problem 1b** (10 points)\n",
    "\n",
    "Repeat what you did in 1a but this time preprocess the sets with the standard scaler.\n",
    "\n",
    "Notice how the coefficients changed as a result of preprocessing. \n",
    "\n",
    "Answer the following questions:\n",
    "\n",
    "Q1: Do you see a statistically significant change in the test score?\n",
    "\n",
    "Q2: How would you order the features based on the coefficients for feature importance? Explain your answer in a few sentences.\n",
    "\n",
    "Q3: Which are the top 3 most important features?"
   ]
  },
  {
   "cell_type": "code",
   "execution_count": 3,
   "metadata": {},
   "outputs": [
    {
     "name": "stdout",
     "output_type": "stream",
     "text": [
      "53.33225222444937 0.8621450587174802\n",
      "54.56367414495442 1.9046784463244424\n"
     ]
    },
    {
     "data": {
      "image/png": "[encoded data removed]",
      "text/plain": [
       "<Figure size 432x288 with 1 Axes>"
      ]
     },
     "metadata": {
      "needs_background": "light"
     },
     "output_type": "display_data"
    },
    {
     "name": "stdout",
     "output_type": "stream",
     "text": [
      "Index(['S5', 'S1', 'BMI'], dtype='object')\n"
     ]
    }
   ],
   "source": [
    "import pandas as pd\n",
    "import numpy as np\n",
    "from  sklearn.linear_model import Ridge, Lasso\n",
    "from sklearn.metrics import accuracy_score\n",
    "from sklearn.model_selection import train_test_split\n",
    "from sklearn.preprocessing import StandardScaler\n",
    "from sklearn.compose import ColumnTransformer\n",
    "from sklearn.pipeline import Pipeline\n",
    "from sklearn.preprocessing import StandardScaler, OneHotEncoder, OrdinalEncoder, MinMaxScaler, LabelEncoder\n",
    "from sklearn.linear_model import LogisticRegression\n",
    "import matplotlib.pyplot as plt\n",
    "df = pd.read_csv(\"https://www4.stat.ncsu.edu/~boos/var.select/diabetes.tab.txt\", sep='\\t')\n",
    "df.head()\n",
    "\n",
    "y = df['Y']\n",
    "X = df.loc[:, df.columns != 'Y']\n",
    "\n",
    "thetas = np.zeros([10,X.shape[1]])\n",
    "train_scores = np.zeros(10)\n",
    "test_scores = np.zeros(10)\n",
    "\n",
    "for i in range(10):\n",
    "    random_state = 42 * i\n",
    "    \n",
    "    # split the data\n",
    "    X_train, X_test, y_train, y_test = train_test_split(X, y, train_size=0.7, random_state=random_state)\n",
    "    \n",
    "    # preprocess the data\n",
    "    ss = StandardScaler()\n",
    "    X_train = ss.fit_transform(X_train)\n",
    "    X_test = ss.transform(X_test)\n",
    "\n",
    "    # load the linear regression model\n",
    "    lin_reg = Ridge(alpha=1)\n",
    "    lin_reg.fit(X_train, y_train)\n",
    "    # train and test scores\n",
    "    train_scores[i] = mean_squared_error(y_train,lin_reg.predict(X_train),squared=False)\n",
    "    test_scores[i] = mean_squared_error(y_test,lin_reg.predict(X_test),squared=False)\n",
    "    thetas[i] = lin_reg.coef_\n",
    "    \n",
    "print(np.mean(train_scores),np.std(train_scores))\n",
    "print(np.mean(test_scores),np.std(test_scores))\n",
    "plt.errorbar(np.arange(X.shape[1]),np.mean(thetas,axis=0),yerr=np.std(thetas,axis=0),fmt='o')\n",
    "plt.xticks(np.arange(X.shape[1]),X.columns)\n",
    "plt.ylabel('coefficients')\n",
    "plt.xlabel('feature names')\n",
    "plt.show()\n",
    "\n",
    "print(X.columns[np.argsort(np.abs(np.mean(thetas,axis=0)))[::-1]][:3])\n"
   ]
  },
  {
   "cell_type": "markdown",
   "metadata": {},
   "source": [
    "Problem 2:\n",
    "\n",
    "In class we have seen both l1 (Lasso) and l2 (Ridge) regression. These are two basic ways to perform regularization. In the following problem, we will explore the **elastic net**, a third regularization technique that combines both l1 and l2 penalties. We will use this in a classification context. \n",
    "\n",
    "The basic idea of the elastic net is that the cost function in regression becomes\n",
    "\n",
    "$L(\\theta) = \\frac{1}{n}\\sum_{i=1}^{n}[(\\theta_0 + \\sum_{j=1}^{m} \\theta_j  x_{ij}- y_i)^2] + \\color{red}{ \\frac{\\alpha \\rho}{m} \\sum_{j=0}^{m}|\\theta_j|} + \\color{blue}{ \\frac{\\alpha (1-\\rho)}{m} \\sum_{j=0}^{m} \\theta_j^2}$,\n",
    "\n",
    "and the cost function in classification is\n",
    "\n",
    "$L(\\theta) = - \\frac{1}{N}\\sum_{i=1}^{n} [y_i\\ln(\\frac{1}{1+e^{-\\theta_0 + \\sum_{j=1}^{m} \\theta_j  x_{ij}}}) + (1-y_i)\\ln(1-\\frac{1}{1+e^{-\\theta_0 + \\sum_{j=1}^{m} \\theta_j  x_{ij}}}))] + \\color{red}{ \\frac{\\alpha \\rho}{m} \\sum_{j=0}^{m}|\\theta_j|} + \\color{blue}{ \\frac{\\alpha (1-\\rho)}{m} \\sum_{j=0}^{m} \\theta_j^2}$,\n",
    "\n",
    "\n",
    "where $\\alpha$ is the regularization parameter and $\\rho$ is the l1 ratio (how much weight we assign to the l1 term over the l2 term in the cost function). Basically, an elastic net uses the weighted sum of the l1 and l2 regularization terms. The weight of the l1 term is $\\rho$ and the weight of the l2 term is $(1-\\rho)$ where $\\rho$ is between 0 and 1.\n",
    "\n",
    "You can read more about the elastic net [here](https://scikit-learn.org/stable/modules/linear_model.html#elastic-net)."
   ]
  },
  {
   "cell_type": "markdown",
   "metadata": {},
   "source": [
    "**Problem 2a** (3 points)\n",
    "\n",
    "Load the training and test sets from train.csv and test.csv. \n",
    "\n",
    "Run a logistic regression model without regularization on the data and print the accuracy score of the test set. Use the 'saga' solver. "
   ]
  },
  {
   "cell_type": "code",
   "execution_count": 4,
   "metadata": {},
   "outputs": [
    {
     "name": "stdout",
     "output_type": "stream",
     "text": [
      "(750, 10)\n",
      "0.708\n"
     ]
    }
   ],
   "source": [
    "from sklearn.linear_model import LogisticRegression\n",
    "from sklearn.metrics import accuracy_score\n",
    "from sklearn.model_selection import train_test_split\n",
    "\n",
    "df_train = pd.read_csv('data/train.csv')\n",
    "y_train = df_train['y'].values\n",
    "df_train.drop(columns=['y'],inplace=True)\n",
    "X_train = df_train.values\n",
    "\n",
    "df_test = pd.read_csv('data/test.csv')\n",
    "y_test = df_test['y'].values\n",
    "df_test.drop(columns=['y'],inplace=True)\n",
    "X_test = df_test.values\n",
    "\n",
    "\n",
    "print(np.shape(X_train))\n",
    "\n",
    "lr = LogisticRegression(penalty='none',solver='saga',max_iter=1e4)\n",
    "lr.fit(X_train,y_train)\n",
    "y_pred = lr.predict(X_test)\n",
    "print(accuracy_score(y_test,y_pred))\n"
   ]
  },
  {
   "cell_type": "markdown",
   "metadata": {},
   "source": [
    "**Problem 2b** (7 points)\n",
    "\n",
    "Perform l1 regularization on the data. \n",
    "\n",
    "The value of the alpha should contain 21 uniformly spaced values in log from 1e-2 to 1e2. \n",
    "\n",
    "Again, use the 'saga' solver and if you see a converge warning, fix it without ignoring the warning. \n",
    "\n",
    "Plot the train and test accuracy scores. \n",
    "\n",
    "Print the best test accuracy score and the corresponding alpha value.\n"
   ]
  },
  {
   "cell_type": "code",
   "execution_count": 5,
   "metadata": {},
   "outputs": [
    {
     "name": "stdout",
     "output_type": "stream",
     "text": [
      "0.724\n",
      "[ 3.98107171  6.30957344 15.84893192 25.11886432]\n"
     ]
    },
    {
     "data": {
      "image/png": "[encoded data removed]",
      "text/plain": [
       "<Figure size 432x288 with 1 Axes>"
      ]
     },
     "metadata": {
      "needs_background": "light"
     },
     "output_type": "display_data"
    }
   ],
   "source": [
    "alpha = np.logspace(-2,2,21)  # 1 point\n",
    "\n",
    "train_acc = np.zeros(len(alpha)) \n",
    "test_acc = np.zeros(len(alpha))\n",
    "\n",
    "# 2 points\n",
    "for i in range(len(alpha)):\n",
    "    lr = LogisticRegression(penalty='l1',C = 1/alpha[i],solver='saga',max_iter=1e4) \n",
    "    lr.fit(X_train,y_train)\n",
    "\n",
    "    train_acc[i] = accuracy_score(y_train,lr.predict(X_train))\n",
    "    test_acc[i] = accuracy_score(y_test,lr.predict(X_test))\n",
    "\n",
    "print(np.max(test_acc)) # 1 point\n",
    "print(alpha[test_acc == np.max(test_acc)]) # 1 point\n",
    "\n",
    "# 2 points\n",
    "plt.plot(alpha,train_acc,label='train')\n",
    "plt.plot(alpha,test_acc,label='test')\n",
    "plt.xlabel('regularization parameter')\n",
    "plt.ylabel('accuracy')\n",
    "plt.legend()\n",
    "plt.semilogx()\n",
    "plt.show()\n"
   ]
  },
  {
   "cell_type": "markdown",
   "metadata": {},
   "source": [
    "**Problem 2c** (1 point)\n",
    "\n",
    "Perform l2 regularization on the data. The alpha values and all the other instructions are the same as in 2b."
   ]
  },
  {
   "cell_type": "code",
   "execution_count": 6,
   "metadata": {},
   "outputs": [
    {
     "name": "stdout",
     "output_type": "stream",
     "text": [
      "0.72\n",
      "[25.11886432 63.09573445]\n"
     ]
    },
    {
     "data": {
      "image/png": "[encoded data removed]",
      "text/plain": [
       "<Figure size 432x288 with 1 Axes>"
      ]
     },
     "metadata": {
      "needs_background": "light"
     },
     "output_type": "display_data"
    }
   ],
   "source": [
    "\n",
    "train_acc = np.zeros(len(alpha)) \n",
    "test_acc = np.zeros(len(alpha))\n",
    "\n",
    "for i in range(len(alpha)):\n",
    "    lr = LogisticRegression(penalty='l2',C = 1/alpha[i],solver='saga',max_iter=1e4) # 1 point\n",
    "    lr.fit(X_train,y_train)\n",
    "\n",
    "    train_acc[i] = accuracy_score(y_train,lr.predict(X_train))\n",
    "    test_acc[i] = accuracy_score(y_test,lr.predict(X_test))\n",
    "\n",
    "print(np.max(test_acc))\n",
    "print(alpha[test_acc == np.max(test_acc)])\n",
    "\n",
    "plt.plot(alpha,train_acc,label='train')\n",
    "plt.plot(alpha,test_acc,label='test')\n",
    "plt.xlabel('regularization parameter')\n",
    "plt.ylabel('accuracy')\n",
    "plt.legend()\n",
    "plt.semilogx()\n",
    "plt.show()\n",
    "\n"
   ]
  },
  {
   "cell_type": "markdown",
   "metadata": {},
   "source": [
    "**Problem 2d** (10 points)\n",
    "\n",
    "Let's train an elastic net now. The elastic net has two parameters: alpha and rho (the l1 ratio). The l1 ratio should be linearly spaced between 0 and 1 with 26 values in between. (1 point) Use the 'saga' solver. The reason we use the saga solver everywhere in Problem 2 is that it is the only solver in LogisticRegression that works with an elastic net. \n",
    "\n",
    "Calculate the train and test accuracy scores for all combinations of alpha and rho. \n",
    "\n",
    "Print the best test score and the corresponding alpha and rho values. \n",
    "\n",
    "Prepare heatmaps to show the train and test scores. Make sure that the data range covered by the two heatmaps are the same so you can easily compare the two heatmaps and you can identify the high bias and high variance regions. Label the plot and add a colorbar. Make the x and y ticks look pretty. \n",
    "\n",
    "Which of the four approaches gave you the best test score?"
   ]
  },
  {
   "cell_type": "code",
   "execution_count": 7,
   "metadata": {},
   "outputs": [
    {
     "name": "stdout",
     "output_type": "stream",
     "text": [
      "0.732\n",
      "39.810717055349734 0.36\n"
     ]
    },
    {
     "data": {
      "image/png": "[encoded data removed]",
      "text/plain": [
       "<Figure size 432x288 with 2 Axes>"
      ]
     },
     "metadata": {
      "needs_background": "light"
     },
     "output_type": "display_data"
    },
    {
     "data": {
      "image/png": "[encoded data removed]",
      "text/plain": [
       "<Figure size 432x288 with 2 Axes>"
      ]
     },
     "metadata": {
      "needs_background": "light"
     },
     "output_type": "display_data"
    }
   ],
   "source": [
    "rho = np.linspace(0,1,26)\n",
    "\n",
    "train_acc = np.zeros([len(alpha),len(rho)]) \n",
    "test_acc = np.zeros([len(alpha),len(rho)])\n",
    "for i in range(len(alpha)):\n",
    "    for j in range(len(rho)):\n",
    "        lr = LogisticRegression(penalty='elasticnet',C = 1/alpha[i],solver='saga',l1_ratio=rho[j],max_iter=1e4)\n",
    "        lr.fit(X_train,y_train)\n",
    "        train_acc[i,j] = accuracy_score(y_train,lr.predict(X_train))\n",
    "        test_acc[i,j] = accuracy_score(y_test,lr.predict(X_test))\n",
    "\n",
    "print(np.max(test_acc)) # 1 point\n",
    "indcs = np.unravel_index(np.argmax(test_acc),np.shape(test_acc))\n",
    "print(alpha[indcs[0]],rho[indcs[1]]) # 2 points\n",
    "\n",
    "plt.imshow(train_acc,vmin=np.min([np.min(train_acc),np.min(test_acc)]),vmax=np.max([np.max(train_acc),np.max(test_acc)]))\n",
    "plt.xticks(np.arange(len(rho))[::5],rho[::5])\n",
    "plt.yticks(np.arange(len(alpha))[::5],alpha[::5])\n",
    "plt.xlabel('l1 ratio')\n",
    "plt.ylabel('regularization parameter')\n",
    "plt.title('train score')\n",
    "plt.colorbar(label='accuracy')\n",
    "plt.show()\n",
    "\n",
    "plt.imshow(test_acc,vmin=np.min([np.min(train_acc),np.min(test_acc)]),vmax=np.max([np.max(train_acc),np.max(test_acc)]))\n",
    "plt.xticks(np.arange(len(rho))[::5],rho[::5])\n",
    "plt.yticks(np.arange(len(alpha))[::5],alpha[::5])\n",
    "plt.xlabel('l1 ratio')\n",
    "plt.ylabel('regularization parameter')\n",
    "plt.title('test score')\n",
    "plt.colorbar(label='accuracy')\n",
    "plt.show()\n"
   ]
  },
  {
   "cell_type": "code",
   "execution_count": null,
   "metadata": {},
   "outputs": [],
   "source": []
  }
 ],
 "metadata": {
  "kernelspec": {
   "display_name": "Python 3",
   "language": "python",
   "name": "python3"
  },
  "language_info": {
   "codemirror_mode": {
    "name": "ipython",
    "version": 3
   },
   "file_extension": ".py",
   "mimetype": "text/x-python",
   "name": "python",
   "nbconvert_exporter": "python",
   "pygments_lexer": "ipython3",
   "version": "3.7.6"
  }
 },
 "nbformat": 4,
 "nbformat_minor": 4
}
