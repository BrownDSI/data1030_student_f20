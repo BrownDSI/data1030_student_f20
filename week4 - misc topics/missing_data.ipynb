{
 "cells": [
  {
   "cell_type": "markdown",
   "metadata": {
    "slideshow": {
     "slide_type": "slide"
    }
   },
   "source": [
    "# <center> Missing data </center>\n",
    "### By the end of this lecture, you will be able to\n",
    "- Describe and compare the three main types of missingness patterns\n",
    "- Evaluate simple approaches for handling missing values\n",
    "- Apply multivariate imputation to a dataset\n",
    "\n"
   ]
  },
  {
   "cell_type": "markdown",
   "metadata": {
    "slideshow": {
     "slide_type": "slide"
    }
   },
   "source": [
    "## Missing values often occur in datasets\n",
    "- survey data: not everyone answers all the questions\n",
    "- medical data: not all tests/treatments/etc are performed on all patients\n",
    "- sensor can be offline or malfunctioning"
   ]
  },
  {
   "cell_type": "markdown",
   "metadata": {
    "slideshow": {
     "slide_type": "slide"
    }
   },
   "source": [
    "## Missing values are an issue for multiple reasons\n",
    "\n",
    "#### Concenptual reason\n",
    "- missing values can introduce biases\n",
    "    - bias: the samples (the data points) are not representative of the underlying distribution/population\n",
    "    - any conclusion drawn from a biased dataset is also biased.\n",
    "    - rich people tend to not fill out survey questions about their salaries and the mean salary estimated from survey data tend to be lower than true value\n"
   ]
  },
  {
   "cell_type": "markdown",
   "metadata": {
    "slideshow": {
     "slide_type": "subslide"
    }
   },
   "source": [
    "#### Practical reason\n",
    "- missing values (NaN, NA, inf) are incompatible with sklearn\n",
    "   - all values in an array need to be numerical otherwise sklearn will throw a *ValueError*\n",
    "- there are a few supervised ML techniques that work with missing values (e.g., XGBoost)\n",
    "   - we will cover those later this semester during a follow-up lecture on missing data"
   ]
  },
  {
   "cell_type": "markdown",
   "metadata": {
    "slideshow": {
     "slide_type": "slide"
    }
   },
   "source": [
    "### <font color='LIGHTGRAY'>By the end of this lecture, you will be able to</font>\n",
    "- **Describe and compare the three main types of missingness patterns**\n",
    "- <font color='LIGHTGRAY'>Evaluate simple approaches for handling missing values</font>\n",
    "- <font color='LIGHTGRAY'>Apply multivariate imputation to a dataset</font>\n"
   ]
  },
  {
   "cell_type": "markdown",
   "metadata": {
    "slideshow": {
     "slide_type": "slide"
    }
   },
   "source": [
    "# Missing data patterns\n",
    "\n",
    "- MCAR - Missing Complete At Random\n",
    "- MAR - Missing At Random\n",
    "- MNAR - Missing Not At Random"
   ]
  },
  {
   "cell_type": "markdown",
   "metadata": {
    "slideshow": {
     "slide_type": "subslide"
    }
   },
   "source": [
    "## MCAR - Missing Complete At Random\n",
    "\n",
    "- the reason the values are missing are related to an unobserved variable\n",
    "- in other words, the missingness pattern does not correlate with any of the observed variables\n",
    "- the data sample is still representative of the underlying distribution/population\n",
    "- your best case scenario but usually rare\n",
    "\n",
    "## MCAR examples\n",
    "- some people randomly fail to fill in some values in a survey \n",
    "- sensor randomly malfunctions\n",
    "- apps, websites are unavailable sometimes"
   ]
  },
  {
   "cell_type": "markdown",
   "metadata": {
    "slideshow": {
     "slide_type": "subslide"
    }
   },
   "source": [
    "## MAR - Missing At Random\n",
    "\n",
    "- Name is misleading! Better name would be 'Missing Conditionally at Random' but the MCAR acronym is taken. \n",
    "- the reason why values are missing in one feature is correlated another feature\n",
    "\n",
    "## MAR examples\n",
    "- missing value in blood pressure data conditional on age\n",
    "   - older people are more likely to have their blood pressure measured during a regular check-up than younger people\n",
    "- males are less likely to fill in a depression survey\n",
    "   - this has nothing to do with their level of depression after accounting for maleness"
   ]
  },
  {
   "cell_type": "markdown",
   "metadata": {
    "slideshow": {
     "slide_type": "subslide"
    }
   },
   "source": [
    "## MNAR - Missing Not At Random\n",
    "\n",
    "- the reason the feature contains missing values is related to the value of the feature itself\n",
    "- most severe case of missingness!\n",
    "- not many ML approaches can deal with this pattern correctly\n",
    "\n",
    "## MNAR examples\n",
    "- depressed people are less likely to fill out a survey on depression because of their level of depression\n",
    "- rich people don't fill out survey info on  their salaries because they are rich and don't want to reveal how much they earn\n",
    "- temperature sensor doesn't work because the observed temperature is outside of range"
   ]
  },
  {
   "cell_type": "markdown",
   "metadata": {
    "slideshow": {
     "slide_type": "subslide"
    }
   },
   "source": [
    "## MAR can be identifed by a statistical test\n",
    "\n",
    "- [Little, 1988](https://www.tandfonline.com/doi/abs/10.1080/01621459.1988.10478722)\n",
    "- pdf of article in week4 folder\n",
    "- the approach:\n",
    "    - given a feature with missing values, it creates a mask which is 0 if feature is not missing and 1 if feature is missing\n",
    "    - loop through the other features in the dataset\n",
    "        - collect the other feature values if mask = 0 and if mask = 1, these are our two samples\n",
    "        - use a statistical test to check if the two samples are different\n",
    "    - if the answer is yes, MAR is at least partially responsible for the missing values\n",
    "    - if answer is no, we might have MCAR or MNAR\n",
    "       - the test can't distinguish MCAR from MNAR"
   ]
  },
  {
   "cell_type": "markdown",
   "metadata": {
    "slideshow": {
     "slide_type": "slide"
    }
   },
   "source": [
    "## What to do when you get a dataset with missing values?\n",
    "- it can be challenging to infer the missingness pattern from an incomplete dataset\n",
    "   - you might work with a subject matter expert who can tell you or guess why some values are missing with some confidece\n",
    "   - but as far as I know, it is impossible to infer the missingness patterns just from a dataset\n",
    "- do some simple diagnostics!\n",
    "   - which features contain missing values?\n",
    "   - what fraction of the values are missing in each feature?\n",
    "   - are the features categorical or continuous?\n",
    "   - what fraction of points contain at least one missing feature value?"
   ]
  },
  {
   "cell_type": "markdown",
   "metadata": {},
   "source": [
    "## Example\n",
    "- kaggle house price dataset\n",
    "- check out the train.csv and the dataset description in the `data` folder!"
   ]
  },
  {
   "cell_type": "code",
   "execution_count": 1,
   "metadata": {},
   "outputs": [
    {
     "name": "stdout",
     "output_type": "stream",
     "text": [
      "(1460, 79)\n"
     ]
    }
   ],
   "source": [
    "# read the data\n",
    "import pandas as pd\n",
    "import numpy  as np\n",
    "from sklearn.model_selection import train_test_split\n",
    "\n",
    "# Let's load the data\n",
    "df = pd.read_csv('data/train.csv')\n",
    "# drop the ID\n",
    "df.drop(columns=['Id'],inplace=True)\n",
    "\n",
    "# the target variable\n",
    "y = df['SalePrice']\n",
    "df.drop(columns=['SalePrice'],inplace=True)\n",
    "# the unprocessed feature matrix\n",
    "X = df\n",
    "print(X.shape)\n",
    "# the feature names\n",
    "ftrs = df.columns"
   ]
  },
  {
   "cell_type": "code",
   "execution_count": 2,
   "metadata": {},
   "outputs": [
    {
     "name": "stdout",
     "output_type": "stream",
     "text": [
      "data dimensions: (1460, 79)\n",
      "fraction of missing values in features:\n",
      "LotFrontage     0.177397\n",
      "Alley           0.937671\n",
      "MasVnrType      0.005479\n",
      "MasVnrArea      0.005479\n",
      "BsmtQual        0.025342\n",
      "BsmtCond        0.025342\n",
      "BsmtExposure    0.026027\n",
      "BsmtFinType1    0.025342\n",
      "BsmtFinType2    0.026027\n",
      "Electrical      0.000685\n",
      "FireplaceQu     0.472603\n",
      "GarageType      0.055479\n",
      "GarageYrBlt     0.055479\n",
      "GarageFinish    0.055479\n",
      "GarageQual      0.055479\n",
      "GarageCond      0.055479\n",
      "PoolQC          0.995205\n",
      "Fence           0.807534\n",
      "MiscFeature     0.963014\n",
      "dtype: float64\n",
      "data types of the features with missing values:\n",
      "LotFrontage     float64\n",
      "Alley            object\n",
      "MasVnrType       object\n",
      "MasVnrArea      float64\n",
      "BsmtQual         object\n",
      "BsmtCond         object\n",
      "BsmtExposure     object\n",
      "BsmtFinType1     object\n",
      "BsmtFinType2     object\n",
      "Electrical       object\n",
      "FireplaceQu      object\n",
      "GarageType       object\n",
      "GarageYrBlt     float64\n",
      "GarageFinish     object\n",
      "GarageQual       object\n",
      "GarageCond       object\n",
      "PoolQC           object\n",
      "Fence            object\n",
      "MiscFeature      object\n",
      "dtype: object\n",
      "fraction of points with missing values: 1.0\n"
     ]
    }
   ],
   "source": [
    "print('data dimensions:',df.shape)\n",
    "perc_missing_per_ftr = df.isnull().sum(axis=0)/df.shape[0]\n",
    "print('fraction of missing values in features:')\n",
    "print(perc_missing_per_ftr[perc_missing_per_ftr > 0])\n",
    "print('data types of the features with missing values:')\n",
    "print(df[perc_missing_per_ftr[perc_missing_per_ftr > 0].index].dtypes)\n",
    "frac_missing = sum(df.isnull().sum(axis=1)!=0)/df.shape[0]\n",
    "print('fraction of points with missing values:',frac_missing)"
   ]
  },
  {
   "cell_type": "markdown",
   "metadata": {
    "slideshow": {
     "slide_type": "slide"
    }
   },
   "source": [
    "## Quiz 1\n",
    "True or false?"
   ]
  },
  {
   "cell_type": "markdown",
   "metadata": {
    "slideshow": {
     "slide_type": "slide"
    }
   },
   "source": [
    "### <font color='LIGHTGRAY'>By the end of this lecture, you will be able to</font>\n",
    "- <font color='LIGHTGRAY'>Describe and compare the three main types of missingness patterns</font>\n",
    "- **Evaluate simple approaches for handling missing values**\n",
    "- <font color='LIGHTGRAY'>Apply multivariate imputation to a dataset</font>\n"
   ]
  },
  {
   "cell_type": "markdown",
   "metadata": {
    "slideshow": {
     "slide_type": "slide"
    }
   },
   "source": [
    "## Simple approaches for handling missing values\n",
    "\n",
    "- exclude points or features with missing values\n",
    "- categorical feature: treat missing values as another category\n",
    "- continuous feature: sklearn's SimpleImputer\n"
   ]
  },
  {
   "cell_type": "markdown",
   "metadata": {
    "slideshow": {
     "slide_type": "slide"
    }
   },
   "source": [
    "### Exclude points or features with missing values\n",
    "- easy to do with pandas\n",
    "- it can be an ACCEPTABLE approach:\n",
    "    - only small fraction of points contain missing values (maybe just a few percent?)\n",
    "    - all missing values occur in one or a few features and you have good reason to believe those features will not be important anyway\n",
    "    - it is OK to ignore a point with missing values when the model is deployed  \n",
    "       - not always the case! think of medical or finance problems!\n",
    "- due to the smaller sample size, the confidence of your model might suffer but usually not a lot"
   ]
  },
  {
   "cell_type": "markdown",
   "metadata": {
    "slideshow": {
     "slide_type": "subslide"
    }
   },
   "source": [
    "##### Drop points or features with missing values\n",
    "- not OK for the house price dataset because all points contain some NaNs."
   ]
  },
  {
   "cell_type": "code",
   "execution_count": 3,
   "metadata": {
    "slideshow": {
     "slide_type": "-"
    }
   },
   "outputs": [
    {
     "name": "stdout",
     "output_type": "stream",
     "text": [
      "(1460, 79)\n",
      "(0, 79)\n",
      "(1460, 60)\n"
     ]
    }
   ],
   "source": [
    "print(df.shape)\n",
    "# by default, rows/points are dropped\n",
    "df_r = df.dropna()\n",
    "print(df_r.shape)\n",
    "# drop features with missing values\n",
    "df_c = df.dropna(axis=1)\n",
    "print(df_c.shape)\n"
   ]
  },
  {
   "cell_type": "markdown",
   "metadata": {
    "slideshow": {
     "slide_type": "slide"
    }
   },
   "source": [
    "### Categorical feature: treat missing values as another category\n",
    "\n",
    "- the BEST thing you can do!\n",
    "- already covered in the preprocessing lecture (one hot encoding)\n",
    "- example: missing values in gender\n",
    "    - if survey only has options for male/female, missing values are likely because those people are outside the gender binary\n",
    "    - it is a bad idea to impute (try to guess male or female and thus boxing them into the binary)\n",
    "- example: native country in the adult data\n",
    "    - missing data are represented as ` ?`\n",
    "    - a one-hot encoded feature was assigned to the missing category\n"
   ]
  },
  {
   "cell_type": "code",
   "execution_count": 4,
   "metadata": {},
   "outputs": [
    {
     "name": "stdout",
     "output_type": "stream",
     "text": [
      "(1460, 79)\n"
     ]
    }
   ],
   "source": [
    "# read the data\n",
    "import pandas as pd\n",
    "import numpy  as np\n",
    "from sklearn.model_selection import train_test_split\n",
    "\n",
    "# Let's load the data\n",
    "df = pd.read_csv('data/train.csv')\n",
    "# drop the ID\n",
    "df.drop(columns=['Id'],inplace=True)\n",
    "\n",
    "# the target variable\n",
    "y = df['SalePrice']\n",
    "df.drop(columns=['SalePrice'],inplace=True)\n",
    "# the unprocessed feature matrix\n",
    "X = df.values\n",
    "print(X.shape)\n",
    "# the feature names\n",
    "ftrs = df.columns"
   ]
  },
  {
   "cell_type": "code",
   "execution_count": 5,
   "metadata": {},
   "outputs": [
    {
     "name": "stdout",
     "output_type": "stream",
     "text": [
      "(876, 79)\n",
      "(292, 79)\n",
      "(292, 79)\n"
     ]
    }
   ],
   "source": [
    "random_state = 42\n",
    "\n",
    "# let's split to train, CV, and test\n",
    "X_train, X_other, y_train, y_other = train_test_split(df, y, train_size=0.6, random_state=random_state)\n",
    "X_CV, X_test, y_CV, y_test = train_test_split(X_other, y_other, test_size=0.5, random_state=random_state)\n",
    "\n",
    "print(X_train.shape)\n",
    "print(X_CV.shape)\n",
    "print(X_test.shape)"
   ]
  },
  {
   "cell_type": "code",
   "execution_count": 6,
   "metadata": {},
   "outputs": [],
   "source": [
    "# collect the various features\n",
    "cat_ftrs = ['MSZoning','Street','Alley','LandContour','LotConfig','Neighborhood','Condition1','Condition2',\\\n",
    "            'BldgType','HouseStyle','RoofStyle','RoofMatl','Exterior1st','Exterior2nd','MasVnrType','Foundation',\\\n",
    "           'Heating','CentralAir','Electrical','GarageType','PavedDrive','MiscFeature','SaleType','SaleCondition']\n",
    "ordinal_ftrs = ['LotShape','Utilities','LandSlope','ExterQual','ExterCond','BsmtQual','BsmtCond','BsmtExposure',\\\n",
    "               'BsmtFinType1','BsmtFinType2','HeatingQC','KitchenQual','Functional','FireplaceQu','GarageFinish',\\\n",
    "               'GarageQual','GarageCond','PoolQC','Fence']\n",
    "ordinal_cats = [['Reg','IR1','IR2','IR3'],['AllPub','NoSewr','NoSeWa','ELO'],['Gtl','Mod','Sev'],\\\n",
    "               ['Po','Fa','TA','Gd','Ex'],['Po','Fa','TA','Gd','Ex'],['NA','Po','Fa','TA','Gd','Ex'],\\\n",
    "               ['NA','Po','Fa','TA','Gd','Ex'],['NA','No','Mn','Av','Gd'],['NA','Unf','LwQ','Rec','BLQ','ALQ','GLQ'],\\\n",
    "               ['NA','Unf','LwQ','Rec','BLQ','ALQ','GLQ'],['Po','Fa','TA','Gd','Ex'],['Po','Fa','TA','Gd','Ex'],\\\n",
    "               ['Sal','Sev','Maj2','Maj1','Mod','Min2','Min1','Typ'],['NA','Po','Fa','TA','Gd','Ex'],\\\n",
    "               ['NA','Unf','RFn','Fin'],['NA','Po','Fa','TA','Gd','Ex'],['NA','Po','Fa','TA','Gd','Ex'],\n",
    "               ['NA','Fa','TA','Gd','Ex'],['NA','MnWw','GdWo','MnPrv','GdPrv']]\n",
    "num_ftrs = ['MSSubClass','LotFrontage','LotArea','OverallQual','OverallCond','YearBuilt','YearRemodAdd',\\\n",
    "             'MasVnrArea','BsmtFinSF1','BsmtFinSF2','BsmtUnfSF','TotalBsmtSF','1stFlrSF','2ndFlrSF',\\\n",
    "             'LowQualFinSF','GrLivArea','BsmtFullBath','BsmtHalfBath','FullBath','HalfBath','BedroomAbvGr',\\\n",
    "             'KitchenAbvGr','TotRmsAbvGrd','Fireplaces','GarageYrBlt','GarageCars','GarageArea','WoodDeckSF',\\\n",
    "             'OpenPorchSF','EnclosedPorch','3SsnPorch','ScreenPorch','PoolArea','MiscVal','MoSold','YrSold']"
   ]
  },
  {
   "cell_type": "code",
   "execution_count": 7,
   "metadata": {},
   "outputs": [],
   "source": [
    "# preprocess with pipeline and columntransformer\n",
    "from sklearn.compose import ColumnTransformer\n",
    "from sklearn.pipeline import Pipeline\n",
    "from sklearn.preprocessing import OneHotEncoder\n",
    "from sklearn.preprocessing import OrdinalEncoder\n",
    "from sklearn.preprocessing import StandardScaler\n",
    "from sklearn.impute import SimpleImputer\n",
    "from sklearn.experimental import enable_iterative_imputer\n",
    "from sklearn.impute import IterativeImputer\n",
    "from sklearn.ensemble import RandomForestRegressor\n",
    "\n",
    "random_state = 42\n",
    "\n",
    "# one-hot encoder\n",
    "# We need to replace the NaN with a string first!\n",
    "categorical_transformer = Pipeline(steps=[\n",
    "    ('imputer', SimpleImputer(strategy='constant',fill_value='missing')),\n",
    "    ('onehot', OneHotEncoder(sparse=False,handle_unknown='ignore'))])\n",
    "\n",
    "# ordinal encoder\n",
    "# We need to replace the NaN with a string first!\n",
    "ordinal_transformer = Pipeline(steps=[\n",
    "    ('imputer2', SimpleImputer(strategy='constant',fill_value='NA')),\n",
    "    ('ordinal', OrdinalEncoder(categories = ordinal_cats))])\n",
    "\n",
    "# standard scaler\n",
    "numeric_transformer = Pipeline(steps=[\n",
    "    ('scaler', StandardScaler())])\n",
    "\n",
    "# collect the transformers\n",
    "preprocessor = ColumnTransformer(\n",
    "    transformers=[\n",
    "        ('num', numeric_transformer, num_ftrs),\n",
    "        ('cat', categorical_transformer, cat_ftrs),\n",
    "        ('ord', ordinal_transformer, ordinal_ftrs)])"
   ]
  },
  {
   "cell_type": "code",
   "execution_count": 8,
   "metadata": {},
   "outputs": [
    {
     "name": "stdout",
     "output_type": "stream",
     "text": [
      "(876, 223)\n",
      "(292, 223)\n",
      "(292, 223)\n",
      "['MSSubClass', 'LotFrontage', 'LotArea', 'OverallQual', 'OverallCond', 'YearBuilt', 'YearRemodAdd', 'MasVnrArea', 'BsmtFinSF1', 'BsmtFinSF2', 'BsmtUnfSF', 'TotalBsmtSF', '1stFlrSF', '2ndFlrSF', 'LowQualFinSF', 'GrLivArea', 'BsmtFullBath', 'BsmtHalfBath', 'FullBath', 'HalfBath', 'BedroomAbvGr', 'KitchenAbvGr', 'TotRmsAbvGrd', 'Fireplaces', 'GarageYrBlt', 'GarageCars', 'GarageArea', 'WoodDeckSF', 'OpenPorchSF', 'EnclosedPorch', '3SsnPorch', 'ScreenPorch', 'PoolArea', 'MiscVal', 'MoSold', 'YrSold', 'MSZoning_C (all)', 'MSZoning_FV', 'MSZoning_RH', 'MSZoning_RL', 'MSZoning_RM', 'Street_Grvl', 'Street_Pave', 'Alley_Grvl', 'Alley_Pave', 'Alley_missing', 'LandContour_Bnk', 'LandContour_HLS', 'LandContour_Low', 'LandContour_Lvl', 'LotConfig_Corner', 'LotConfig_CulDSac', 'LotConfig_FR2', 'LotConfig_FR3', 'LotConfig_Inside', 'Neighborhood_Blmngtn', 'Neighborhood_Blueste', 'Neighborhood_BrDale', 'Neighborhood_BrkSide', 'Neighborhood_ClearCr', 'Neighborhood_CollgCr', 'Neighborhood_Crawfor', 'Neighborhood_Edwards', 'Neighborhood_Gilbert', 'Neighborhood_IDOTRR', 'Neighborhood_MeadowV', 'Neighborhood_Mitchel', 'Neighborhood_NAmes', 'Neighborhood_NPkVill', 'Neighborhood_NWAmes', 'Neighborhood_NoRidge', 'Neighborhood_NridgHt', 'Neighborhood_OldTown', 'Neighborhood_SWISU', 'Neighborhood_Sawyer', 'Neighborhood_SawyerW', 'Neighborhood_Somerst', 'Neighborhood_StoneBr', 'Neighborhood_Timber', 'Neighborhood_Veenker', 'Condition1_Artery', 'Condition1_Feedr', 'Condition1_Norm', 'Condition1_PosA', 'Condition1_PosN', 'Condition1_RRAe', 'Condition1_RRAn', 'Condition1_RRNe', 'Condition1_RRNn', 'Condition2_Artery', 'Condition2_Feedr', 'Condition2_Norm', 'Condition2_PosN', 'Condition2_RRAe', 'Condition2_RRAn', 'BldgType_1Fam', 'BldgType_2fmCon', 'BldgType_Duplex', 'BldgType_Twnhs', 'BldgType_TwnhsE', 'HouseStyle_1.5Fin', 'HouseStyle_1.5Unf', 'HouseStyle_1Story', 'HouseStyle_2.5Fin', 'HouseStyle_2.5Unf', 'HouseStyle_2Story', 'HouseStyle_SFoyer', 'HouseStyle_SLvl', 'RoofStyle_Flat', 'RoofStyle_Gable', 'RoofStyle_Gambrel', 'RoofStyle_Hip', 'RoofStyle_Mansard', 'RoofStyle_Shed', 'RoofMatl_ClyTile', 'RoofMatl_CompShg', 'RoofMatl_Metal', 'RoofMatl_Roll', 'RoofMatl_Tar&Grv', 'RoofMatl_WdShake', 'RoofMatl_WdShngl', 'Exterior1st_AsbShng', 'Exterior1st_AsphShn', 'Exterior1st_BrkComm', 'Exterior1st_BrkFace', 'Exterior1st_CBlock', 'Exterior1st_CemntBd', 'Exterior1st_HdBoard', 'Exterior1st_MetalSd', 'Exterior1st_Plywood', 'Exterior1st_Stone', 'Exterior1st_Stucco', 'Exterior1st_VinylSd', 'Exterior1st_Wd Sdng', 'Exterior1st_WdShing', 'Exterior2nd_AsbShng', 'Exterior2nd_AsphShn', 'Exterior2nd_Brk Cmn', 'Exterior2nd_BrkFace', 'Exterior2nd_CBlock', 'Exterior2nd_CmentBd', 'Exterior2nd_HdBoard', 'Exterior2nd_ImStucc', 'Exterior2nd_MetalSd', 'Exterior2nd_Other', 'Exterior2nd_Plywood', 'Exterior2nd_Stone', 'Exterior2nd_Stucco', 'Exterior2nd_VinylSd', 'Exterior2nd_Wd Sdng', 'Exterior2nd_Wd Shng', 'MasVnrType_BrkCmn', 'MasVnrType_BrkFace', 'MasVnrType_None', 'MasVnrType_Stone', 'MasVnrType_missing', 'Foundation_BrkTil', 'Foundation_CBlock', 'Foundation_PConc', 'Foundation_Slab', 'Foundation_Stone', 'Foundation_Wood', 'Heating_Floor', 'Heating_GasA', 'Heating_GasW', 'Heating_Grav', 'Heating_OthW', 'Heating_Wall', 'CentralAir_N', 'CentralAir_Y', 'Electrical_FuseA', 'Electrical_FuseF', 'Electrical_FuseP', 'Electrical_SBrkr', 'Electrical_missing', 'GarageType_2Types', 'GarageType_Attchd', 'GarageType_Basment', 'GarageType_BuiltIn', 'GarageType_CarPort', 'GarageType_Detchd', 'GarageType_missing', 'PavedDrive_N', 'PavedDrive_P', 'PavedDrive_Y', 'MiscFeature_Gar2', 'MiscFeature_Shed', 'MiscFeature_TenC', 'MiscFeature_missing', 'SaleType_COD', 'SaleType_CWD', 'SaleType_Con', 'SaleType_ConLD', 'SaleType_ConLI', 'SaleType_ConLw', 'SaleType_New', 'SaleType_Oth', 'SaleType_WD', 'SaleCondition_Abnorml', 'SaleCondition_AdjLand', 'SaleCondition_Alloca', 'SaleCondition_Family', 'SaleCondition_Normal', 'SaleCondition_Partial', 'LotShape', 'Utilities', 'LandSlope', 'ExterQual', 'ExterCond', 'BsmtQual', 'BsmtCond', 'BsmtExposure', 'BsmtFinType1', 'BsmtFinType2', 'HeatingQC', 'KitchenQual', 'Functional', 'FireplaceQu', 'GarageFinish', 'GarageQual', 'GarageCond', 'PoolQC', 'Fence']\n"
     ]
    }
   ],
   "source": [
    "# fit_transform the training set\n",
    "X_prep = preprocessor.fit_transform(X_train)\n",
    "# little hacky, but collect feature names\n",
    "feature_names = preprocessor.transformers_[0][-1] + \\\n",
    "                list(preprocessor.named_transformers_['cat'][1].get_feature_names(cat_ftrs)) + \\\n",
    "                preprocessor.transformers_[2][-1]\n",
    "\n",
    "# you can convert the numpy array back to a data frame with the feature names if you want\n",
    "df_train = pd.DataFrame(data=X_prep,columns=feature_names)\n",
    "print(df_train.shape)\n",
    "\n",
    "# transform the CV\n",
    "df_CV = preprocessor.transform(X_CV)\n",
    "df_CV = pd.DataFrame(data=df_CV,columns = feature_names)\n",
    "print(df_CV.shape)\n",
    "\n",
    "# transform the test\n",
    "df_test = preprocessor.transform(X_test)\n",
    "df_test = pd.DataFrame(data=df_test,columns = feature_names)\n",
    "print(df_test.shape)\n",
    "print(feature_names)"
   ]
  },
  {
   "cell_type": "code",
   "execution_count": 9,
   "metadata": {},
   "outputs": [
    {
     "name": "stdout",
     "output_type": "stream",
     "text": [
      "data dimensions: (876, 223)\n",
      "fraction of missing values in features:\n",
      "LotFrontage    0.190639\n",
      "MasVnrArea     0.002283\n",
      "GarageYrBlt    0.052511\n",
      "dtype: float64\n",
      "data types of the features with missing values:\n",
      "LotFrontage    float64\n",
      "MasVnrArea     float64\n",
      "GarageYrBlt    float64\n",
      "dtype: object\n",
      "fraction of points with missing values: 0.23972602739726026\n"
     ]
    }
   ],
   "source": [
    "print('data dimensions:',df_train.shape)\n",
    "perc_missing_per_ftr = df_train.isnull().sum(axis=0)/df_train.shape[0]\n",
    "print('fraction of missing values in features:')\n",
    "print(perc_missing_per_ftr[perc_missing_per_ftr > 0])\n",
    "print('data types of the features with missing values:')\n",
    "print(df_train[perc_missing_per_ftr[perc_missing_per_ftr > 0].index].dtypes)\n",
    "frac_missing = sum(df_train.isnull().sum(axis=1)!=0)/df_train.shape[0]\n",
    "print('fraction of points with missing values:',frac_missing)"
   ]
  },
  {
   "cell_type": "markdown",
   "metadata": {
    "slideshow": {
     "slide_type": "slide"
    }
   },
   "source": [
    "## Quiz 2\n",
    "The gender feature below contains missing values. Please explain how you would encode it and would be the output of the encoder. Do not write code. The goal of this quiz is to test your conceptual understanding so write text and the output array.\n",
    "\n",
    "gender = ['Male', 'Female', 'Male', NaN, NaN, 'Female']\n"
   ]
  },
  {
   "cell_type": "markdown",
   "metadata": {
    "slideshow": {
     "slide_type": "slide"
    }
   },
   "source": [
    "### Continuous feature: sklearn's SimpleImputer\n",
    "\n",
    "- Imputation means you infer the missing values from the known part of the data\n",
    "- sklearn's SimpleImputer can do mean and median imputation\n",
    "- USUALLY A BAD IDEA!\n",
    "   - mean or median imputation decreases the variance of the feature"
   ]
  },
  {
   "cell_type": "code",
   "execution_count": 10,
   "metadata": {
    "slideshow": {
     "slide_type": "subslide"
    }
   },
   "outputs": [
    {
     "data": {
      "image/png": "[encoded data removed]",
      "text/plain": [
       "<Figure size 432x288 with 1 Axes>"
      ]
     },
     "metadata": {
      "needs_background": "light"
     },
     "output_type": "display_data"
    },
    {
     "name": "stdout",
     "output_type": "stream",
     "text": [
      "std before imputation: 1.0\n",
      "std after imputation: 0.8996447802291788\n"
     ]
    }
   ],
   "source": [
    "import matplotlib.pyplot as plt\n",
    "\n",
    "si = SimpleImputer(strategy='mean')\n",
    "X_lot = si.fit_transform(df_train[['LotFrontage']])\n",
    "\n",
    "df_train['LotFrontage'].hist(bins=40,label = 'before imputation',alpha=0.5)\n",
    "plt.hist(X_lot,bins=40,label='after imputation',alpha=0.5)\n",
    "plt.xlabel('Lot frontage (standardized)')\n",
    "plt.ylabel('nr of houses')\n",
    "plt.legend()\n",
    "plt.show()\n",
    "\n",
    "print('std before imputation:',np.std(df_train['LotFrontage']))\n",
    "print('std after imputation:',np.std(X_lot))"
   ]
  },
  {
   "cell_type": "markdown",
   "metadata": {
    "slideshow": {
     "slide_type": "slide"
    }
   },
   "source": [
    "### <font color='LIGHTGRAY'>By the end of this lecture, you will be able to</font>\n",
    "- <font color='LIGHTGRAY'>Describe and compare the three main types of missingness patterns</font>\n",
    "- <font color='LIGHTGRAY'>Evaluate simple approaches for handling missing values</font>\n",
    "- **Apply multivariate imputation to a dataset**\n"
   ]
  },
  {
   "cell_type": "markdown",
   "metadata": {
    "slideshow": {
     "slide_type": "slide"
    }
   },
   "source": [
    "## Multivariate imputation\n",
    "\n",
    "- models each feature with missing values as a function of other features, and uses that estimate for imputation\n",
    "   - at each step, a feature column is designated as target variable y and the other feature columns are treated as inputs X\n",
    "   - a regressor is trained on (X, y) for known y\n",
    "   - then, the regressor is used to predict the missing values of y\n",
    "- paper [here](https://www.jstatsoft.org/article/view/v045i03) and pdf in folder\n",
    "- fails for MNAR"
   ]
  },
  {
   "cell_type": "markdown",
   "metadata": {},
   "source": [
    "## Does it make sense to impute values?\n",
    "- what continuous features have missing values?\n",
    "- why are the values missing?\n",
    "   - health care: maybe a test was not performed on all patients, that's why some test results are missing\n",
    "      - would you feel comfortable guessing what the test results would have been if it had been performed?\n",
    "   - in the house price dataset, GarageYrBlt is one of the continuous features with missing values\n",
    "      - it is missing if the house has no garage!\n",
    "      - therefore an imputed GarageYrBlt value is meaningless \n",
    "- not always a good approach but it might work under some circumstances"
   ]
  },
  {
   "cell_type": "code",
   "execution_count": 11,
   "metadata": {
    "slideshow": {
     "slide_type": "subslide"
    }
   },
   "outputs": [
    {
     "name": "stdout",
     "output_type": "stream",
     "text": [
      "Help on class IterativeImputer in module sklearn.impute._iterative:\n",
      "\n",
      "class IterativeImputer(sklearn.impute._base._BaseImputer)\n",
      " |  IterativeImputer(estimator=None, *, missing_values=nan, sample_posterior=False, max_iter=10, tol=0.001, n_nearest_features=None, initial_strategy='mean', imputation_order='ascending', skip_complete=False, min_value=None, max_value=None, verbose=0, random_state=None, add_indicator=False)\n",
      " |  \n",
      " |  Multivariate imputer that estimates each feature from all the others.\n",
      " |  \n",
      " |  A strategy for imputing missing values by modeling each feature with\n",
      " |  missing values as a function of other features in a round-robin fashion.\n",
      " |  \n",
      " |  Read more in the :ref:`User Guide <iterative_imputer>`.\n",
      " |  \n",
      " |  .. versionadded:: 0.21\n",
      " |  \n",
      " |  .. note::\n",
      " |  \n",
      " |    This estimator is still **experimental** for now: the predictions\n",
      " |    and the API might change without any deprecation cycle. To use it,\n",
      " |    you need to explicitly import ``enable_iterative_imputer``::\n",
      " |  \n",
      " |      >>> # explicitly require this experimental feature\n",
      " |      >>> from sklearn.experimental import enable_iterative_imputer  # noqa\n",
      " |      >>> # now you can import normally from sklearn.impute\n",
      " |      >>> from sklearn.impute import IterativeImputer\n",
      " |  \n",
      " |  Parameters\n",
      " |  ----------\n",
      " |  estimator : estimator object, default=BayesianRidge()\n",
      " |      The estimator to use at each step of the round-robin imputation.\n",
      " |      If ``sample_posterior`` is True, the estimator must support\n",
      " |      ``return_std`` in its ``predict`` method.\n",
      " |  \n",
      " |  missing_values : int, np.nan, default=np.nan\n",
      " |      The placeholder for the missing values. All occurrences of\n",
      " |      `missing_values` will be imputed. For pandas' dataframes with\n",
      " |      nullable integer dtypes with missing values, `missing_values`\n",
      " |      should be set to `np.nan`, since `pd.NA` will be converted to `np.nan`.\n",
      " |  \n",
      " |  sample_posterior : boolean, default=False\n",
      " |      Whether to sample from the (Gaussian) predictive posterior of the\n",
      " |      fitted estimator for each imputation. Estimator must support\n",
      " |      ``return_std`` in its ``predict`` method if set to ``True``. Set to\n",
      " |      ``True`` if using ``IterativeImputer`` for multiple imputations.\n",
      " |  \n",
      " |  max_iter : int, default=10\n",
      " |      Maximum number of imputation rounds to perform before returning the\n",
      " |      imputations computed during the final round. A round is a single\n",
      " |      imputation of each feature with missing values. The stopping criterion\n",
      " |      is met once `abs(max(X_t - X_{t-1}))/abs(max(X[known_vals]))` < tol,\n",
      " |      where `X_t` is `X` at iteration `t. Note that early stopping is only\n",
      " |      applied if ``sample_posterior=False``.\n",
      " |  \n",
      " |  tol : float, default=1e-3\n",
      " |      Tolerance of the stopping condition.\n",
      " |  \n",
      " |  n_nearest_features : int, default=None\n",
      " |      Number of other features to use to estimate the missing values of\n",
      " |      each feature column. Nearness between features is measured using\n",
      " |      the absolute correlation coefficient between each feature pair (after\n",
      " |      initial imputation). To ensure coverage of features throughout the\n",
      " |      imputation process, the neighbor features are not necessarily nearest,\n",
      " |      but are drawn with probability proportional to correlation for each\n",
      " |      imputed target feature. Can provide significant speed-up when the\n",
      " |      number of features is huge. If ``None``, all features will be used.\n",
      " |  \n",
      " |  initial_strategy : str, default='mean'\n",
      " |      Which strategy to use to initialize the missing values. Same as the\n",
      " |      ``strategy`` parameter in :class:`sklearn.impute.SimpleImputer`\n",
      " |      Valid values: {\"mean\", \"median\", \"most_frequent\", or \"constant\"}.\n",
      " |  \n",
      " |  imputation_order : str, default='ascending'\n",
      " |      The order in which the features will be imputed. Possible values:\n",
      " |  \n",
      " |      \"ascending\"\n",
      " |          From features with fewest missing values to most.\n",
      " |      \"descending\"\n",
      " |          From features with most missing values to fewest.\n",
      " |      \"roman\"\n",
      " |          Left to right.\n",
      " |      \"arabic\"\n",
      " |          Right to left.\n",
      " |      \"random\"\n",
      " |          A random order for each round.\n",
      " |  \n",
      " |  skip_complete : boolean, default=False\n",
      " |      If ``True`` then features with missing values during ``transform``\n",
      " |      which did not have any missing values during ``fit`` will be imputed\n",
      " |      with the initial imputation method only. Set to ``True`` if you have\n",
      " |      many features with no missing values at both ``fit`` and ``transform``\n",
      " |      time to save compute.\n",
      " |  \n",
      " |  min_value : float or array-like of shape (n_features,), default=None.\n",
      " |      Minimum possible imputed value. Broadcast to shape (n_features,) if\n",
      " |      scalar. If array-like, expects shape (n_features,), one min value for\n",
      " |      each feature. `None` (default) is converted to -np.inf.\n",
      " |  \n",
      " |  max_value : float or array-like of shape (n_features,), default=None.\n",
      " |      Maximum possible imputed value. Broadcast to shape (n_features,) if\n",
      " |      scalar. If array-like, expects shape (n_features,), one max value for\n",
      " |      each feature. `None` (default) is converted to np.inf.\n",
      " |  \n",
      " |  verbose : int, default=0\n",
      " |      Verbosity flag, controls the debug messages that are issued\n",
      " |      as functions are evaluated. The higher, the more verbose. Can be 0, 1,\n",
      " |      or 2.\n",
      " |  \n",
      " |  random_state : int, RandomState instance or None, default=None\n",
      " |      The seed of the pseudo random number generator to use. Randomizes\n",
      " |      selection of estimator features if n_nearest_features is not None, the\n",
      " |      ``imputation_order`` if ``random``, and the sampling from posterior if\n",
      " |      ``sample_posterior`` is True. Use an integer for determinism.\n",
      " |      See :term:`the Glossary <random_state>`.\n",
      " |  \n",
      " |  add_indicator : boolean, default=False\n",
      " |      If True, a :class:`MissingIndicator` transform will stack onto output\n",
      " |      of the imputer's transform. This allows a predictive estimator\n",
      " |      to account for missingness despite imputation. If a feature has no\n",
      " |      missing values at fit/train time, the feature won't appear on\n",
      " |      the missing indicator even if there are missing values at\n",
      " |      transform/test time.\n",
      " |  \n",
      " |  Attributes\n",
      " |  ----------\n",
      " |  initial_imputer_ : object of type :class:`sklearn.impute.SimpleImputer`\n",
      " |      Imputer used to initialize the missing values.\n",
      " |  \n",
      " |  imputation_sequence_ : list of tuples\n",
      " |      Each tuple has ``(feat_idx, neighbor_feat_idx, estimator)``, where\n",
      " |      ``feat_idx`` is the current feature to be imputed,\n",
      " |      ``neighbor_feat_idx`` is the array of other features used to impute the\n",
      " |      current feature, and ``estimator`` is the trained estimator used for\n",
      " |      the imputation. Length is ``self.n_features_with_missing_ *\n",
      " |      self.n_iter_``.\n",
      " |  \n",
      " |  n_iter_ : int\n",
      " |      Number of iteration rounds that occurred. Will be less than\n",
      " |      ``self.max_iter`` if early stopping criterion was reached.\n",
      " |  \n",
      " |  n_features_with_missing_ : int\n",
      " |      Number of features with missing values.\n",
      " |  \n",
      " |  indicator_ : :class:`sklearn.impute.MissingIndicator`\n",
      " |      Indicator used to add binary indicators for missing values.\n",
      " |      ``None`` if add_indicator is False.\n",
      " |  \n",
      " |  random_state_ : RandomState instance\n",
      " |      RandomState instance that is generated either from a seed, the random\n",
      " |      number generator or by `np.random`.\n",
      " |  \n",
      " |  See also\n",
      " |  --------\n",
      " |  SimpleImputer : Univariate imputation of missing values.\n",
      " |  \n",
      " |  Examples\n",
      " |  --------\n",
      " |  >>> import numpy as np\n",
      " |  >>> from sklearn.experimental import enable_iterative_imputer\n",
      " |  >>> from sklearn.impute import IterativeImputer\n",
      " |  >>> imp_mean = IterativeImputer(random_state=0)\n",
      " |  >>> imp_mean.fit([[7, 2, 3], [4, np.nan, 6], [10, 5, 9]])\n",
      " |  IterativeImputer(random_state=0)\n",
      " |  >>> X = [[np.nan, 2, 3], [4, np.nan, 6], [10, np.nan, 9]]\n",
      " |  >>> imp_mean.transform(X)\n",
      " |  array([[ 6.9584...,  2.       ,  3.        ],\n",
      " |         [ 4.       ,  2.6000...,  6.        ],\n",
      " |         [10.       ,  4.9999...,  9.        ]])\n",
      " |  \n",
      " |  Notes\n",
      " |  -----\n",
      " |  To support imputation in inductive mode we store each feature's estimator\n",
      " |  during the ``fit`` phase, and predict without refitting (in order) during\n",
      " |  the ``transform`` phase.\n",
      " |  \n",
      " |  Features which contain all missing values at ``fit`` are discarded upon\n",
      " |  ``transform``.\n",
      " |  \n",
      " |  References\n",
      " |  ----------\n",
      " |  .. [1] `Stef van Buuren, Karin Groothuis-Oudshoorn (2011). \"mice:\n",
      " |      Multivariate Imputation by Chained Equations in R\". Journal of\n",
      " |      Statistical Software 45: 1-67.\n",
      " |      <https://www.jstatsoft.org/article/view/v045i03>`_\n",
      " |  \n",
      " |  .. [2] `S. F. Buck, (1960). \"A Method of Estimation of Missing Values in\n",
      " |      Multivariate Data Suitable for use with an Electronic Computer\".\n",
      " |      Journal of the Royal Statistical Society 22(2): 302-306.\n",
      " |      <https://www.jstor.org/stable/2984099>`_\n",
      " |  \n",
      " |  Method resolution order:\n",
      " |      IterativeImputer\n",
      " |      sklearn.impute._base._BaseImputer\n",
      " |      sklearn.base.TransformerMixin\n",
      " |      sklearn.base.BaseEstimator\n",
      " |      builtins.object\n",
      " |  \n",
      " |  Methods defined here:\n",
      " |  \n",
      " |  __init__(self, estimator=None, *, missing_values=nan, sample_posterior=False, max_iter=10, tol=0.001, n_nearest_features=None, initial_strategy='mean', imputation_order='ascending', skip_complete=False, min_value=None, max_value=None, verbose=0, random_state=None, add_indicator=False)\n",
      " |      Initialize self.  See help(type(self)) for accurate signature.\n",
      " |  \n",
      " |  fit(self, X, y=None)\n",
      " |      Fits the imputer on X and return self.\n",
      " |      \n",
      " |      Parameters\n",
      " |      ----------\n",
      " |      X : array-like, shape (n_samples, n_features)\n",
      " |          Input data, where \"n_samples\" is the number of samples and\n",
      " |          \"n_features\" is the number of features.\n",
      " |      \n",
      " |      y : ignored\n",
      " |      \n",
      " |      Returns\n",
      " |      -------\n",
      " |      self : object\n",
      " |          Returns self.\n",
      " |  \n",
      " |  fit_transform(self, X, y=None)\n",
      " |      Fits the imputer on X and return the transformed X.\n",
      " |      \n",
      " |      Parameters\n",
      " |      ----------\n",
      " |      X : array-like, shape (n_samples, n_features)\n",
      " |          Input data, where \"n_samples\" is the number of samples and\n",
      " |          \"n_features\" is the number of features.\n",
      " |      \n",
      " |      y : ignored.\n",
      " |      \n",
      " |      Returns\n",
      " |      -------\n",
      " |      Xt : array-like, shape (n_samples, n_features)\n",
      " |          The imputed input data.\n",
      " |  \n",
      " |  transform(self, X)\n",
      " |      Imputes all missing values in X.\n",
      " |      \n",
      " |      Note that this is stochastic, and that if random_state is not fixed,\n",
      " |      repeated calls, or permuted input, will yield different results.\n",
      " |      \n",
      " |      Parameters\n",
      " |      ----------\n",
      " |      X : array-like of shape (n_samples, n_features)\n",
      " |          The input data to complete.\n",
      " |      \n",
      " |      Returns\n",
      " |      -------\n",
      " |      Xt : array-like, shape (n_samples, n_features)\n",
      " |           The imputed input data.\n",
      " |  \n",
      " |  ----------------------------------------------------------------------\n",
      " |  Data descriptors inherited from sklearn.base.TransformerMixin:\n",
      " |  \n",
      " |  __dict__\n",
      " |      dictionary for instance variables (if defined)\n",
      " |  \n",
      " |  __weakref__\n",
      " |      list of weak references to the object (if defined)\n",
      " |  \n",
      " |  ----------------------------------------------------------------------\n",
      " |  Methods inherited from sklearn.base.BaseEstimator:\n",
      " |  \n",
      " |  __getstate__(self)\n",
      " |  \n",
      " |  __repr__(self, N_CHAR_MAX=700)\n",
      " |      Return repr(self).\n",
      " |  \n",
      " |  __setstate__(self, state)\n",
      " |  \n",
      " |  get_params(self, deep=True)\n",
      " |      Get parameters for this estimator.\n",
      " |      \n",
      " |      Parameters\n",
      " |      ----------\n",
      " |      deep : bool, default=True\n",
      " |          If True, will return the parameters for this estimator and\n",
      " |          contained subobjects that are estimators.\n",
      " |      \n",
      " |      Returns\n",
      " |      -------\n",
      " |      params : mapping of string to any\n",
      " |          Parameter names mapped to their values.\n",
      " |  \n",
      " |  set_params(self, **params)\n",
      " |      Set the parameters of this estimator.\n",
      " |      \n",
      " |      The method works on simple estimators as well as on nested objects\n",
      " |      (such as pipelines). The latter have parameters of the form\n",
      " |      ``<component>__<parameter>`` so that it's possible to update each\n",
      " |      component of a nested object.\n",
      " |      \n",
      " |      Parameters\n",
      " |      ----------\n",
      " |      **params : dict\n",
      " |          Estimator parameters.\n",
      " |      \n",
      " |      Returns\n",
      " |      -------\n",
      " |      self : object\n",
      " |          Estimator instance.\n",
      "\n"
     ]
    }
   ],
   "source": [
    "from sklearn.experimental import enable_iterative_imputer\n",
    "from sklearn.impute import IterativeImputer\n",
    "help(IterativeImputer)"
   ]
  },
  {
   "cell_type": "code",
   "execution_count": 12,
   "metadata": {},
   "outputs": [
    {
     "name": "stdout",
     "output_type": "stream",
     "text": [
      "   LotFrontage  MasVnrArea  GarageYrBlt\n",
      "0    -0.372911   -0.606613    -2.126354\n",
      "1    -0.678966   -0.606613    -1.927257\n",
      "2          NaN    0.706580     0.063711\n",
      "3     0.200943   -0.606613     0.422085\n",
      "4    -0.066855   -0.606613     1.138834\n",
      "   LotFrontage  MasVnrArea  GarageYrBlt\n",
      "0    -0.372911   -0.606613    -2.126354\n",
      "1    -0.678966   -0.606613    -1.927257\n",
      "2     0.943128    0.706580     0.063711\n",
      "3     0.200943   -0.606613     0.422085\n",
      "4    -0.066855   -0.606613     1.138834\n"
     ]
    }
   ],
   "source": [
    "from sklearn.experimental import enable_iterative_imputer\n",
    "from sklearn.impute import IterativeImputer\n",
    "from sklearn.ensemble import RandomForestRegressor\n",
    "\n",
    "print(df_train[['LotFrontage','MasVnrArea','GarageYrBlt']].head())\n",
    "\n",
    "imputer = IterativeImputer(estimator = RandomForestRegressor(n_estimators=10, random_state=1000))\n",
    "X_impute = imputer.fit_transform(df_train)\n",
    "df_train_imp = pd.DataFrame(data=X_impute, columns = df_train.columns)\n",
    "\n",
    "print(df_train_imp[['LotFrontage','MasVnrArea','GarageYrBlt']].head())\n",
    "\n",
    "# save training data into a csv, we will use this csv in the next notebook\n",
    "df_train_imp.assign(SalePrice=y_train.values).to_csv('data/house_price_prep_imputed.csv',index=False)\n",
    "\n",
    "df_CV_imp = pd.DataFrame(data=imputer.transform(df_CV), columns = df_train.columns)\n",
    "df_test_imp = pd.DataFrame(data=imputer.transform(df_test), columns = df_train.columns)"
   ]
  },
  {
   "cell_type": "markdown",
   "metadata": {
    "slideshow": {
     "slide_type": "subslide"
    }
   },
   "source": [
    "## Multivariate imputation: uncertainty estimate\n",
    "\n",
    "- create multiple imputed datasets with different random states (at least 3 but 5 or more is recommended)\n",
    "- run each imputed dataset through your ML pipeline\n",
    "- measure the uncertainty of the predicted target variable (mean and stdev of each points' predicted labels)\n",
    "- this procedure will let you estimate the uncertainty due to the randomness in imputation"
   ]
  },
  {
   "cell_type": "markdown",
   "metadata": {},
   "source": [
    "## Another lecture on missing data later!\n",
    "- there are advanced methods to deal with missing values in contunous features (without imputation)\n",
    "- but we need to cover a couple of other things first before we can discuss those techniques"
   ]
  },
  {
   "cell_type": "markdown",
   "metadata": {},
   "source": [
    "## Quiz 3\n",
    "Consider how multivariate imputation works. Please explain in a couple of sentences why it fails for MNAR! Feel free to check out the paper of the method (pdf in the repository) or check out the sklearn pages below for more info!\n",
    "\n",
    "https://scikit-learn.org/stable/modules/impute.html#iterative-imputer\n",
    "\n",
    "https://scikit-learn.org/stable/modules/generated/sklearn.impute.IterativeImputer.html"
   ]
  },
  {
   "cell_type": "code",
   "execution_count": null,
   "metadata": {},
   "outputs": [],
   "source": []
  }
 ],
 "metadata": {
  "celltoolbar": "Slideshow",
  "kernelspec": {
   "display_name": "Python 3",
   "language": "python",
   "name": "python3"
  },
  "language_info": {
   "codemirror_mode": {
    "name": "ipython",
    "version": 3
   },
   "file_extension": ".py",
   "mimetype": "text/x-python",
   "name": "python",
   "nbconvert_exporter": "python",
   "pygments_lexer": "ipython3",
   "version": "3.7.6"
  }
 },
 "nbformat": 4,
 "nbformat_minor": 2
}
