{
 "cells": [
  {
   "cell_type": "markdown",
   "metadata": {},
   "source": [
    "# Mud card and piazza questions"
   ]
  },
  {
   "cell_type": "markdown",
   "metadata": {},
   "source": [
    "## Questions on data splitting"
   ]
  },
  {
   "cell_type": "markdown",
   "metadata": {},
   "source": [
    "- **I am still confused about what number should we set to random_state. Why we always use random_state = 42?**\n",
    "    - Because 42 is The Answer to the Ultimate Question of Life, The Universe, and Everything 😁 \n",
    "    - Because \"The Hitchhiker's Guide to the Galaxy is great!\" - direct quote from one of the TAs 😁\n",
    "    - you can use any number you want\n",
    "    "
   ]
  },
  {
   "cell_type": "markdown",
   "metadata": {},
   "source": [
    "- **Can you only tell if data is imbalanced when you begin to split or is there a way to know during EDA?**\n",
    "    - the target variable is just another column in your dataset so you can apply .value_counts() to it to figure out how imbalanced it is"
   ]
  },
  {
   "cell_type": "markdown",
   "metadata": {},
   "source": [
    "- **For quiz 1 we were supposed to split the data set into 70% train, 20% validation, and 10% test. Is there a standard way of ordering our train_test_split calls to divide a dataset like this (i.e. first into 90-10 and then divide the training data into 77-22, or first into 70-30 and then divide the test data into 66-33, etc.)?**\n",
    "    - either works, both solutions are good"
   ]
  },
  {
   "cell_type": "markdown",
   "metadata": {},
   "source": [
    "- **How do we decide which variable to give to the stratify argument of train_test_split? Is it always the categorical variable we're mapping to?**\n",
    "    - it is always a categorical variable, most often the target variable but in some cases it can be a different column\n",
    "    - it depends on your problem at hand so think through what one makes sense."
   ]
  },
  {
   "cell_type": "markdown",
   "metadata": {},
   "source": [
    "- **why kfold if stratified is better**\n",
    "    - kfold is perfectly fine if you dataset is nicely balanced. \n",
    "    - the goal here is to learn as many splitting techniques as possible so you can make an informed decision in your problem set and project"
   ]
  },
  {
   "cell_type": "markdown",
   "metadata": {},
   "source": [
    "- **could you explain more about the split functions**\n",
    "- **the most confusing part was the difference between a fold and a split and understanding when groupkfold will work and wont work.**\n"
   ]
  },
  {
   "attachments": {},
   "cell_type": "markdown",
   "metadata": {},
   "source": [
    "- **When to use KFold versus Shuffle Split**\n",
    "- **I have been struggled with understanding two group-based split methods.¬† (Shrufflesplit and Kfold). It would be nicer if we can elaborate on the topic in class to illustrate their difference and how they work theoretically.**\n",
    "- **Could you go over again the difference between GroupShuffleSplit and GroupKFold?**\n",
    "- **When would it be better to use a GroupShuffleSplit vs. a GroupKFold when splitting the data?**\n",
    "- **I was a little bit confused about when to use GroupShuffleSplit vs. GroupKFold and what exactly their differences are.**\n",
    "- **I don't understand well the difference between GroupShuffleSplit and GroupKFold. More fundamentally, I'd like a little more clarity on the distinction between a split and a fold.**\n",
    "    - use shuffle split if you work with a small dataset and you want to explore how much the test score uncertainty is due to random splitting\n",
    "        - e.g., you create 10 shuffle splits and calculate 10 test scores\n",
    "        - the mean and stdev of the scores gives you a measure of uncertainty due to random splitting\n",
    "    - kfold returns only one split"
   ]
  },
  {
   "attachments": {},
   "cell_type": "markdown",
   "metadata": {},
   "source": [
    "- **Some further clarification on what the difference between fit_transform vs transform. I understand that fit transform should only be used on training but would like a bit further explanation on the difference between the two!**\n",
    "    - .fit fits the preprocessor based on the feature matrix you give it to\n",
    "        - e.g., for the standard scaler, it calculates and saves the mean and stdev of each feature\n",
    "    - .fit_transform fits the preprocessor based on the feature matrix you give it to **and** it also transforms that feature matrix\n",
    "    - .transform uses the previous fitted preprocessor to transform the feature matrix you give as an input\n",
    "        - if .fit was not performed before the .transform line, you'll get an error message"
   ]
  },
  {
   "cell_type": "markdown",
   "metadata": {},
   "source": [
    "- **Just to be clear, when we use min-max scaling on the testing dataset, should we use the min & max from the training dataset or testing dataset?**\n",
    "    - min-max of the training data should be used to scale the test!!! \n",
    "    - otherwise the points won't be transformed correctly\n",
    "\n",
    "<center><img src=\"figures/no_separate_scaling.png\" width=1000\"></center>\n"
   ]
  },
  {
   "cell_type": "markdown",
   "metadata": {},
   "source": [
    "- **Within the example code of GroupShuffleSplit,¬†why does [5 6 7] (group 3) not exist in any of the test sets?**\n",
    "    - that/s just luck. change the random state to 0 and you'll see [5,6,7] in the test set\n",
    "- **Possibly related to the question above, when looking at the sample¬† image breakdown for¬†GroupShuffleSplit,¬† why are groups 1-20 only in the training set whereas the other groups are sometimes training sometimes test?**\n",
    "    - same answer, if you change the random state, the figure will change."
   ]
  },
  {
   "cell_type": "markdown",
   "metadata": {},
   "source": [
    "- **This question is in regards to the \"#toy example\" where you talk about OneHotEncoder and what the \"handle_unknown='ignore'\" parameter does. In your example, there is a Male:Firefox combination but Firefox does not show up in the training data. What does this tell us about the data? Does this mean the training data is \"bad\" since it doesn't include all the browser options? Is it ever an option to reallocate/rerun train_test_split?**\n",
    "    - your dataset is never bad. :)\n",
    "    - often you don't have a choice but to work with the dataset you get and make the most of it\n",
    "    - it just means that the maybe the firefox category is rare \n",
    "        - it is so rare in fact that when you split the data, the category doesn't appear in train by chance\n",
    "    - if this happens, you shouldn't reallocate teh data, just add handle_unknown = 'ignore' and you will be fine."
   ]
  },
  {
   "cell_type": "markdown",
   "metadata": {},
   "source": [
    "- **We also saw the importance of stratified splitting when a certain class only make up a small percentage of the data. It's less important when the data isn't imbalanced, but is there any reason to not use stratification, since it seems very easy and quick to implement and apparently no downsides. Shouldn't we just always use stratified splitting?**\n",
    "    - you can use stratified splits in classifiction at all times\n",
    "    - train_test_split without stratification is easy to learn first"
   ]
  },
  {
   "cell_type": "markdown",
   "metadata": {},
   "source": [
    "- **What are the disadvantages of stratified splits comparing to (repeated) K-fold cross-validation or other methods?**\n",
    "    - generally, any type of stratified split can only be used in classification\n",
    "    - splits without stratification can be used in both classification and regression problems\n",
    "    - one problem can be solved using multiple splitting strategies\n",
    "        - e.g., an iid dataset can be split using the basic approach (train, validation, test) and k-fold are equally fine\n",
    "        - a dataset with group structure can also be split multiple ways: basic and group k-fold are equally fine"
   ]
  },
  {
   "cell_type": "markdown",
   "metadata": {},
   "source": [
    "- **I didn't understand stratified splits very well. How does Quiz 2 connect to stratified splits? I didn't understand how to solve that quiz.**\n",
    "    - Quiz 2 doesn't connect to stratified splits. :)\n",
    "    - let's go through Quiz 2 together"
   ]
  },
  {
   "cell_type": "markdown",
   "metadata": {},
   "source": [
    "- **Why does train_test_split not split the data into three separate categories?**\n",
    "    - Because the function was not written that way. :D \n",
    "    - But you can use train_test_split to split your data into as many sets as you want with any sizes"
   ]
  },
  {
   "cell_type": "markdown",
   "metadata": {},
   "source": [
    "- **Is LabelEncoder still efficient when there is a large number of classes?**\n",
    "    - yes but it is not really a question of efficiency\n",
    "    - sklearn expects classification labels to have certain properties and the LabelEncoder does this for you\n",
    "        - if necessary, you need to use it otherwise sklearn will give you an error message."
   ]
  },
  {
   "cell_type": "markdown",
   "metadata": {},
   "source": [
    "- **Does the leaking statistics risk only apply to transformers that scale relative to the data's values? For example, would we have to worry about about transforming sets separately with the OneHotEncoder (i.e. with unordered categorical data)?**\n",
    "    - it applies to all transformers!\n",
    "    - fit all transformers to the training set and transform all sets afterwards\n",
    "    - apply fit only once on your training set"
   ]
  },
  {
   "cell_type": "markdown",
   "metadata": {},
   "source": [
    "- **I was wondering if there is a cheatsheet of sorts for the different kinds of encoding?**\n",
    "    - yep, it's in your github repo"
   ]
  },
  {
   "cell_type": "markdown",
   "metadata": {},
   "source": [
    "- **Why n_split cannot exceed the number of groups for GroupKFold?**\n",
    "    - let's go through quiz 3"
   ]
  },
  {
   "cell_type": "code",
   "execution_count": null,
   "metadata": {},
   "outputs": [],
   "source": []
  }
 ],
 "metadata": {
  "kernelspec": {
   "display_name": "Python 3",
   "language": "python",
   "name": "python3"
  },
  "language_info": {
   "codemirror_mode": {
    "name": "ipython",
    "version": 3
   },
   "file_extension": ".py",
   "mimetype": "text/x-python",
   "name": "python",
   "nbconvert_exporter": "python",
   "pygments_lexer": "ipython3",
   "version": "3.7.6"
  }
 },
 "nbformat": 4,
 "nbformat_minor": 4
}
